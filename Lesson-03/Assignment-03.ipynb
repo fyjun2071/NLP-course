{
 "cells": [
  {
   "cell_type": "markdown",
   "metadata": {},
   "source": [
    "## Lecture-03 Gradient Descent and Dymanic Programming"
   ]
  },
  {
   "cell_type": "markdown",
   "metadata": {},
   "source": [
    "In this week, we need complete following tasks:\n",
    "+ Re-review the course online programming; \n",
    "+ Choose 1 - 2 books which you interested and keep reading; \n",
    "+ Answer the review questions\n",
    "+ Prepare the basic requirement of our 1st project. "
   ]
  },
  {
   "cell_type": "markdown",
   "metadata": {},
   "source": [
    "### Part I Review the online programming. "
   ]
  },
  {
   "cell_type": "markdown",
   "metadata": {},
   "source": [
    "#### 1. Dynamic Programming"
   ]
  },
  {
   "cell_type": "code",
   "execution_count": 36,
   "metadata": {},
   "outputs": [],
   "source": [
    "from collections import defaultdict\n",
    "from functools import wraps"
   ]
  },
  {
   "cell_type": "code",
   "execution_count": 37,
   "metadata": {},
   "outputs": [],
   "source": [
    "original_price = [1, 5, 8, 9, 10, 17, 17, 20, 24, 30, 35]\n",
    "price = defaultdict(int)\n",
    "for i, p in enumerate(original_price): \n",
    "    price[i + 1] = p"
   ]
  },
  {
   "cell_type": "code",
   "execution_count": 38,
   "metadata": {},
   "outputs": [],
   "source": [
    "solution = {}\n",
    "\n",
    "def memo(f): \n",
    "    memo.already_computed = {}\n",
    "    @wraps(f)\n",
    "    def _wrap(arg):\n",
    "        result = None\n",
    "        if arg in memo.already_computed: \n",
    "            result = memo.already_computed[arg]\n",
    "        else:\n",
    "            result = f(arg)\n",
    "            memo.already_computed[arg] = result\n",
    "        return result\n",
    "    return _wrap\n",
    "\n",
    "@memo\n",
    "def r(n):\n",
    "    \"\"\"\n",
    "    Args: n is the iron length\n",
    "    Return: the max revenue \n",
    "    \"\"\"\n",
    "    max_price, max_split = max(\n",
    "        [(price[n], 0)] + [(r(i) + r(n-i), i) for i in range(1, n)], key=lambda x: x[0]\n",
    "    )\n",
    "    solution[n] = (max_split, n - max_split)\n",
    "    return max_price"
   ]
  },
  {
   "cell_type": "code",
   "execution_count": 39,
   "metadata": {},
   "outputs": [
    {
     "data": {
      "text/plain": [
       "118"
      ]
     },
     "execution_count": 39,
     "metadata": {},
     "output_type": "execute_result"
    }
   ],
   "source": [
    "r(38)"
   ]
  },
  {
   "cell_type": "code",
   "execution_count": 40,
   "metadata": {},
   "outputs": [
    {
     "data": {
      "text/plain": [
       "{1: (0, 1),\n",
       " 2: (0, 2),\n",
       " 3: (0, 3),\n",
       " 4: (2, 2),\n",
       " 5: (2, 3),\n",
       " 6: (0, 6),\n",
       " 7: (1, 6),\n",
       " 8: (2, 6),\n",
       " 9: (3, 6),\n",
       " 10: (0, 10),\n",
       " 11: (0, 11),\n",
       " 12: (1, 11),\n",
       " 13: (2, 11),\n",
       " 14: (3, 11),\n",
       " 15: (2, 13),\n",
       " 16: (2, 14),\n",
       " 17: (6, 11),\n",
       " 18: (1, 17),\n",
       " 19: (2, 17),\n",
       " 20: (3, 17),\n",
       " 21: (10, 11),\n",
       " 22: (11, 11),\n",
       " 23: (1, 22),\n",
       " 24: (2, 22),\n",
       " 25: (3, 22),\n",
       " 26: (2, 24),\n",
       " 27: (2, 25),\n",
       " 28: (6, 22),\n",
       " 29: (1, 28),\n",
       " 30: (2, 28),\n",
       " 31: (3, 28),\n",
       " 32: (10, 22),\n",
       " 33: (11, 22),\n",
       " 34: (1, 33),\n",
       " 35: (2, 33),\n",
       " 36: (3, 33),\n",
       " 37: (2, 35),\n",
       " 38: (2, 36)}"
      ]
     },
     "execution_count": 40,
     "metadata": {},
     "output_type": "execute_result"
    }
   ],
   "source": [
    "solution"
   ]
  },
  {
   "cell_type": "code",
   "execution_count": 41,
   "metadata": {},
   "outputs": [],
   "source": [
    "def not_cut(split): return split == 0\n",
    "\n",
    "def parse_solution(target_length, revenue_solution):\n",
    "    left, right = revenue_solution[target_length]\n",
    "    if not_cut(left): return [right]\n",
    "    return parse_solution(left, revenue_solution) + parse_solution(right, revenue_solution)"
   ]
  },
  {
   "cell_type": "code",
   "execution_count": 42,
   "metadata": {},
   "outputs": [
    {
     "data": {
      "text/plain": [
       "[2, 3, 11, 11, 11]"
      ]
     },
     "execution_count": 42,
     "metadata": {},
     "output_type": "execute_result"
    }
   ],
   "source": [
    "parse_solution(38, solution)"
   ]
  },
  {
   "cell_type": "markdown",
   "metadata": {},
   "source": [
    "#### 2. Gradient Descent Programming"
   ]
  },
  {
   "cell_type": "code",
   "execution_count": 59,
   "metadata": {},
   "outputs": [],
   "source": [
    "import random\n",
    "from sklearn.datasets import load_boston\n",
    "import matplotlib.pyplot as plt\n",
    "%matplotlib inline"
   ]
  },
  {
   "cell_type": "code",
   "execution_count": 44,
   "metadata": {},
   "outputs": [],
   "source": [
    "data = load_boston()\n",
    "X, y = data['data'], data['target']\n",
    "X_rm = X[:, 5]"
   ]
  },
  {
   "cell_type": "code",
   "execution_count": 45,
   "metadata": {},
   "outputs": [],
   "source": [
    "def draw_rm_and_price():\n",
    "    plt.scatter(X_rm, y)\n",
    "\n",
    "def draw_result(k, b):\n",
    "    print('k: {}, b: {}'.format(k, b))\n",
    "    price_by_random_k_and_b = [price(r, k, b) for r in X_rm]\n",
    "    draw_rm_and_price()\n",
    "    plt.scatter(X_rm, price_by_random_k_and_b)"
   ]
  },
  {
   "cell_type": "code",
   "execution_count": 46,
   "metadata": {},
   "outputs": [],
   "source": [
    "def price(rm, k, b):\n",
    "    \"\"\"f(x) = k * x + b\"\"\"\n",
    "    return k * rm + b  "
   ]
  },
  {
   "cell_type": "code",
   "execution_count": 47,
   "metadata": {},
   "outputs": [],
   "source": [
    "def loss(y, y_hat):\n",
    "    return sum((y_i - y_hat_i)**2 for y_i, y_hat_i in zip(list(y), list(y_hat))) / len(list(y))"
   ]
  },
  {
   "cell_type": "code",
   "execution_count": 48,
   "metadata": {},
   "outputs": [],
   "source": [
    "def partial_k(x, y, y_hat):\n",
    "    return -2 / len(y) * sum([(y_i - y_hat_i) * x_i for x_i, y_i, y_hat_i in zip(list(x), list(y), list(y_hat))])\n",
    "\n",
    "def partial_b(x, y, y_hat):\n",
    "    return -2 / len(y) * sum([y_i - y_hat_i for y_i, y_hat_i in zip(list(y), list(y_hat))])"
   ]
  },
  {
   "cell_type": "code",
   "execution_count": 49,
   "metadata": {},
   "outputs": [],
   "source": [
    "def gradient_descent_optimize(trying_times, loss, partial_k, partial_b, learning_rate):\n",
    "    min_loss = float('inf') \n",
    "    current_k = random.random() * 200 - 100\n",
    "    current_b = random.random() * 200 - 100\n",
    "    print('initial k: {}, b: {}'.format(current_k, current_b))\n",
    "    update_time = 0\n",
    "    for i in range(trying_times):\n",
    "        price_by_k_and_b = [price(r, current_k, current_b) for r in X_rm]\n",
    "        current_loss = loss(y, price_by_k_and_b)\n",
    "        k_gradient = partial_k(X_rm, y, price_by_k_and_b)\n",
    "        b_gradient = partial_b(X_rm, y, price_by_k_and_b)\n",
    "        if current_loss < min_loss:\n",
    "            min_loss = current_loss\n",
    "            best_k, best_b = current_k, current_b\n",
    "            if i % 50 == 0: \n",
    "                print('When time is : {}, get best_k: {} best_b: {}, and the loss is: {}, k_gradient: {}, b_gradient: {}'.format(i, best_k, best_b, min_loss, k_gradient, b_gradient))\n",
    "        current_k = current_k + (-1 * k_gradient) * learning_rate\n",
    "        current_b = current_b + (-1 * b_gradient) * learning_rate\n",
    "    return best_k, best_b"
   ]
  },
  {
   "cell_type": "code",
   "execution_count": 60,
   "metadata": {},
   "outputs": [
    {
     "name": "stdout",
     "output_type": "stream",
     "text": [
      "initial k: -29.51331234347421, b: -37.78069099319363\n",
      "When time is : 0, get best_k: -29.51331234347421 best_b: -37.78069099319363, and the loss is: 61192.912365527714, k_gradient: -3127.500544205761, b_gradient: -491.58774991151256\n",
      "When time is : 50, get best_k: -16.64074914828973 best_b: -35.75741473350668, and the loss is: 26897.149655895733, k_gradient: -2072.5392250303144, b_gradient: -325.7424907725078\n",
      "When time is : 100, get best_k: -8.110326227214527 best_b: -34.416744895408854, and the loss is: 11836.293788754125, k_gradient: -1373.436283185042, b_gradient: -215.83997263942587\n",
      "When time is : 150, get best_k: -2.457357658987149 best_b: -33.52842542658359, and the loss is: 5222.375281158727, k_gradient: -910.1539669800983, b_gradient: -143.00965239277426\n",
      "When time is : 200, get best_k: 1.2887762532219822 best_b: -32.9398699899562, and the loss is: 2317.8977051158017, k_gradient: -603.1455254964015, b_gradient: -94.74637751093123\n",
      "When time is : 250, get best_k: 3.7712868506281017 best_b: -32.54996250181255, and the loss is: 1042.4072328001243, k_gradient: -399.69682928131584, b_gradient: -62.76321959979655\n",
      "When time is : 300, get best_k: 5.4164181408681475 best_b: -32.291695243233455, and the loss is: 482.2803511390736, k_gradient: -264.87522034637857, b_gradient: -41.568587725936354\n",
      "When time is : 350, get best_k: 6.506633977429525 best_b: -32.12066346445243, and the loss is: 236.30271330347023, k_gradient: -175.531486007823, b_gradient: -27.52330829619605\n",
      "When time is : 400, get best_k: 7.229117821187897 best_b: -32.00744097646341, and the loss is: 128.28254029652263, k_gradient: -116.32508023404344, b_gradient: -18.21576970263811\n",
      "When time is : 450, get best_k: 7.7079126163742675 best_b: -31.93252759957947, and the loss is: 80.84587171179479, k_gradient: -77.09011290330743, b_gradient: -12.0478424802436\n",
      "When time is : 500, get best_k: 8.025219279359849 best_b: -31.8830009330193, and the loss is: 60.01422238349638, k_gradient: -51.0898406328036, b_gradient: -7.960476416053211\n",
      "When time is : 550, get best_k: 8.235510804914064 best_b: -31.850297545849234, and the loss is: 50.86606770441735, k_gradient: -33.859950818085125, b_gradient: -5.2518589359797145\n",
      "When time is : 600, get best_k: 8.374885417851761 best_b: -31.82874261412681, and the loss is: 46.84867598221845, k_gradient: -22.442027812646266, b_gradient: -3.45691210215067\n",
      "When time is : 650, get best_k: 8.467264729979036 best_b: -31.814575539206142, and the loss is: 45.084439615659086, k_gradient: -14.875585442471534, b_gradient: -2.26743754895939\n",
      "When time is : 700, get best_k: 8.528501141637996 best_b: -31.80530424339191, and the loss is: 44.30966799515731, k_gradient: -9.861446547299055, b_gradient: -1.4791980403910607\n",
      "When time is : 750, get best_k: 8.56909973913495 best_b: -31.799277273864387, and the loss is: 43.969416118462554, k_gradient: -6.538670960286057, b_gradient: -0.95684941752079\n",
      "When time is : 800, get best_k: 8.596022044758152 best_b: -31.79540024403225, and the loss is: 43.81998196453545, k_gradient: -4.3367298932489975, b_gradient: -0.6107016624437769\n",
      "When time is : 850, get best_k: 8.613881327847611 best_b: -31.792947924572545, and the loss is: 43.75434470281083, k_gradient: -2.877544693705524, b_gradient: -0.38131889424943627\n",
      "When time is : 900, get best_k: 8.625734714865446 best_b: -31.791439719711896, and the loss is: 43.725506536035695, k_gradient: -1.9105697793415641, b_gradient: -0.2293140772103867\n",
      "When time is : 950, get best_k: 8.633608105779107 best_b: -31.790557147709876, and the loss is: 43.71282855741931, k_gradient: -1.269773324755716, b_gradient: -0.1285861666442406\n",
      "When time is : 1000, get best_k: 8.638844026234578 best_b: -31.790089156733885, and the loss is: 43.707247268277975, k_gradient: -0.8451291750595358, b_gradient: -0.06183849320447419\n",
      "When time is : 1050, get best_k: 8.642332142621752 best_b: -31.78989588672224, and the loss is: 43.70478246708142, k_gradient: -0.5637250754467219, b_gradient: -0.01760888079333842\n",
      "When time is : 1100, get best_k: 8.644662020054541 best_b: -31.789884655055268, and the loss is: 43.70368626322111, k_gradient: -0.3772434517352816, b_gradient: 0.011698438205444516\n",
      "When time is : 1150, get best_k: 8.64622435219921 best_b: -31.789994042713044, and the loss is: 43.70319107707665, k_gradient: -0.2536651600778534, b_gradient: 0.03111703553159646\n",
      "When time is : 1200, get best_k: 8.647278044369726 best_b: -31.79018334847278, and the loss is: 43.7029598289292, k_gradient: -0.17177171858464188, b_gradient: 0.04398256410913047\n",
      "When time is : 1250, get best_k: 8.647994668228046 best_b: -31.79042560040456, and the loss is: 43.70284449148092, k_gradient: -0.11750204005514732, b_gradient: 0.05250549813116432\n",
      "When time is : 1300, get best_k: 8.648487921074352 best_b: -31.790702924721497, and the loss is: 43.70278005909715, k_gradient: -0.08153810757201242, b_gradient: 0.05815067709639789\n",
      "When time is : 1350, get best_k: 8.648833147962383 best_b: -31.791003476804296, and the loss is: 43.70273798479581, k_gradient: -0.05770504731005433, b_gradient: 0.06188882247472336\n",
      "When time is : 1400, get best_k: 8.64908027863649 best_b: -31.791319407449144, and the loss is: 43.702705732275824, k_gradient: -0.041910887009022686, b_gradient: 0.06436321305033664\n",
      "When time is : 1450, get best_k: 8.649262400595504 best_b: -31.791645515138637, and the loss is: 43.70267779626664, k_gradient: -0.0314439539365796, b_gradient: 0.06600013752397502\n",
      "When time is : 1500, get best_k: 8.649401440300254 best_b: -31.79197835292706, and the loss is: 43.702651759148544, k_gradient: -0.02450727378688156, b_gradient: 0.0670820893664944\n",
      "When time is : 1550, get best_k: 8.64951192800247 best_b: -31.792315636590338, and the loss is: 43.70262655923201, k_gradient: -0.019910025627763447, b_gradient: 0.06779627166539137\n",
      "When time is : 1600, get best_k: 8.649603492625815 best_b: -31.792655852417944, and the loss is: 43.7026017302793, k_gradient: -0.016863074916932126, b_gradient: 0.06826674037125154\n",
      "When time is : 1650, get best_k: 8.649682515076407 best_b: -31.792997997304255, and the loss is: 43.70257706754315, k_gradient: -0.014843477098241997, b_gradient: 0.06857570501935811\n",
      "When time is : 1700, get best_k: 8.64975322386048 best_b: -31.793341406511765, and the loss is: 43.70255248110863, k_gradient: -0.01350468669049323, b_gradient: 0.06877764431609919\n",
      "When time is : 1750, get best_k: 8.649818421129503 best_b: -31.793685639533166, and the loss is: 43.70252793148921, k_gradient: -0.012617054549879396, b_gradient: 0.06890866027100796\n",
      "When time is : 1800, get best_k: 8.649879963816616 best_b: -31.794030404454315, and the loss is: 43.70250340134372, k_gradient: -0.012028396524517976, b_gradient: 0.06899267700415507\n",
      "When time is : 1850, get best_k: 8.649939082476605 best_b: -31.79437550783085, and the loss is: 43.7024788830561, k_gradient: -0.011637863051002199, b_gradient: 0.06904554857808302\n",
      "When time is : 1900, get best_k: 8.649996592575135 best_b: -31.794720821472577, and the loss is: 43.70245437328089, k_gradient: -0.01137862302973876, b_gradient: 0.06907778118031936\n",
      "When time is : 1950, get best_k: 8.650053034506174 best_b: -31.795066260431945, and the loss is: 43.70242987054824, k_gradient: -0.011206388752750835, b_gradient: 0.06909633706296686\n",
      "k: 8.650107657011224, b: -31.795404857846794\n"
     ]
    },
    {
     "data": {
      "image/png": "[encoded data removed]",
      "text/plain": [
       "<Figure size 432x288 with 1 Axes>"
      ]
     },
     "metadata": {
      "needs_background": "light"
     },
     "output_type": "display_data"
    }
   ],
   "source": [
    "k, b = gradient_descent_optimize(2000, loss, partial_k, partial_b, 1e-04)\n",
    "draw_result(k, b)"
   ]
  },
  {
   "cell_type": "markdown",
   "metadata": {},
   "source": [
    "### Part 2: change loss function from $loss = \\frac{1}{n}\\sum{(y_i - \\hat(y_i))^2}$ to $loss = \\frac{1}{n}\\sum{|y_i - \\hat{y_i}|}$, and using your mathmatical knowledge to get the right partial formual. Implemen the gradient descent code."
   ]
  },
  {
   "cell_type": "code",
   "execution_count": 51,
   "metadata": {},
   "outputs": [],
   "source": [
    "def loss_2(y, y_hat):\n",
    "    return sum(abs(y_i - y_hat_i) for y_i, y_hat_i in zip(list(y), list(y_hat))) / len(list(y))\n",
    "\n",
    "def partial_k_2(x, y, y_hat):\n",
    "    return sum([(y_hat_i - y_i) * x_i / abs(y_hat_i - y_i) for x_i, y_i, y_hat_i in zip(list(x), list(y), list(y_hat))]) / len(y)\n",
    "\n",
    "def partial_b_2(x, y, y_hat):\n",
    "    return sum([(y_hat_i - y_i) / abs(y_hat_i - y_i) for y_i, y_hat_i in zip(list(y), list(y_hat))]) / len(y)"
   ]
  },
  {
   "cell_type": "code",
   "execution_count": 66,
   "metadata": {},
   "outputs": [
    {
     "name": "stdout",
     "output_type": "stream",
     "text": [
      "initial k: 82.83572340540769, b: -46.87722204072826\n",
      "When time is : 0, get best_k: 82.83572340540769 best_b: -46.87722204072826, and the loss is: 451.1822074499466, k_gradient: 6.284634387351787, b_gradient: 1.0\n",
      "When time is : 50, get best_k: 51.412551468648616 best_b: -51.877222040728334, and the loss is: 248.69906053652312, k_gradient: 6.284634387351787, b_gradient: 1.0\n",
      "When time is : 100, get best_k: 20.001872812522013 best_b: -56.87405998539244, and the loss is: 46.38976121475746, k_gradient: 6.235646245059297, b_gradient: 0.9881422924901185\n",
      "When time is : 150, get best_k: 12.817932496316457 best_b: -57.894218088159164, and the loss is: 4.709076328559207, k_gradient: 0.008460474308299687, b_gradient: -0.02766798418972332\n",
      "When time is : 200, get best_k: 12.798080322403413 best_b: -57.75232085495748, and the loss is: 4.705030071547528, k_gradient: 0.05476086956521726, b_gradient: -0.019762845849802372\n",
      "When time is : 250, get best_k: 12.770500875763096 best_b: -57.612399906340876, and the loss is: 4.700903475796984, k_gradient: -0.04075691699604782, b_gradient: -0.03557312252964427\n",
      "When time is : 300, get best_k: 12.748381903431081 best_b: -57.4720837008073, and the loss is: 4.696849411354938, k_gradient: 0.005642292490118012, b_gradient: -0.02766798418972332\n",
      "When time is : 350, get best_k: 12.728348306593155 best_b: -57.3337437798587, and the loss is: 4.692939211513791, k_gradient: 0.05476086956521703, b_gradient: -0.019762845849802372\n",
      "When time is : 400, get best_k: 12.706021033865902 best_b: -57.196984886578036, and the loss is: 4.689107610639624, k_gradient: 0.025776679841896848, b_gradient: -0.023715415019762844\n",
      "When time is : 450, get best_k: 12.682703642561581 best_b: -57.061411764048266, and the loss is: 4.685350149214382, k_gradient: -0.023341897233202204, b_gradient: -0.03162055335968379\n",
      "When time is : 500, get best_k: 12.660647516079392 best_b: -56.92623389843558, and the loss is: 4.6815905821394415, k_gradient: -0.02334189723320222, b_gradient: -0.03162055335968379\n",
      "When time is : 550, get best_k: 12.636226172205907 best_b: -56.79342757432494, and the loss is: 4.67814372845893, k_gradient: -0.1282312252964431, b_gradient: -0.04743083003952569\n",
      "When time is : 600, get best_k: 12.616823010150592 best_b: -56.661807020965284, and the loss is: 4.674474318399367, k_gradient: -0.056519762845850384, b_gradient: -0.03557312252964427\n",
      "When time is : 650, get best_k: 12.59718980856958 best_b: -56.530976981439636, and the loss is: 4.670933264281737, k_gradient: -0.03234980237154228, b_gradient: -0.03162055335968379\n",
      "When time is : 700, get best_k: 12.578667278925314 best_b: -56.40093745574795, and the loss is: 4.667455334076126, k_gradient: -0.008622529644269324, b_gradient: -0.02766798418972332\n",
      "When time is : 750, get best_k: 12.559408385644687 best_b: -56.2724789577241, and the loss is: 4.664077114953559, k_gradient: 0.01632608695652094, b_gradient: -0.023715415019762844\n",
      "When time is : 800, get best_k: 12.53765463070398 best_b: -56.14441571661724, and the loss is: 4.660711527428617, k_gradient: -0.008622529644269097, b_gradient: -0.02766798418972332\n",
      "When time is : 850, get best_k: 12.518842772996479 best_b: -56.015957218593414, and the loss is: 4.657331317728943, k_gradient: 0.01632608695652094, b_gradient: -0.023715415019762844\n",
      "When time is : 900, get best_k: 12.500806804617032 best_b: -55.8890797482377, and the loss is: 4.654287660998632, k_gradient: 0.13202173913043472, b_gradient: -0.003952569169960474\n",
      "When time is : 1050, get best_k: 12.435268069439122 best_b: -55.5167477324275, and the loss is: 4.6445209819255755, k_gradient: 0.031365612648220964, b_gradient: -0.019762845849802372\n",
      "When time is : 1100, get best_k: 12.412813128727661 best_b: -55.39461334507561, and the loss is: 4.641423418860249, k_gradient: 0.008219367588932089, b_gradient: -0.023715415019762844\n",
      "When time is : 1250, get best_k: 12.35634000619797 best_b: -55.040463147447184, and the loss is: 4.6329254768433135, k_gradient: 0.02176086956521682, b_gradient: -0.019762845849802372\n",
      "When time is : 1300, get best_k: 12.338142772996358 best_b: -54.927024412269354, and the loss is: 4.63028761698845, k_gradient: 0.02176086956521704, b_gradient: -0.019762845849802372\n",
      "When time is : 1350, get best_k: 12.319084274972608 best_b: -54.81398093400847, and the loss is: 4.62766788398068, k_gradient: -0.00349209486166068, b_gradient: -0.023715415019762844\n",
      "When time is : 1400, get best_k: 12.298788227541744 best_b: -54.70133271266453, and the loss is: 4.625075815998608, k_gradient: -0.027081027667984793, b_gradient: -0.02766798418972332\n",
      "When time is : 1450, get best_k: 12.284244354023928 best_b: -54.587893977486566, and the loss is: 4.622428236146007, k_gradient: 0.02031422924901134, b_gradient: -0.019762845849802372\n",
      "When time is : 1500, get best_k: 12.265995342166196 best_b: -54.475245756142634, and the loss is: 4.619831272101879, k_gradient: 0.02031422924901134, b_gradient: -0.019762845849802372\n",
      "When time is : 1550, get best_k: 12.245365697897398 best_b: -54.362992791715705, and the loss is: 4.617229945281432, k_gradient: -0.003492094861660657, b_gradient: -0.023715415019762844\n",
      "When time is : 1600, get best_k: 12.230053840189868 best_b: -54.249949313454785, and the loss is: 4.614648649323833, k_gradient: 0.02031422924901134, b_gradient: -0.019762845849802372\n",
      "When time is : 1650, get best_k: 12.211975579320317 best_b: -54.138091605944965, and the loss is: 4.612070776757479, k_gradient: 0.020314229249011335, b_gradient: -0.019762845849802372\n",
      "When time is : 1700, get best_k: 12.19703644888553 best_b: -54.02741966918608, and the loss is: 4.609653006217277, k_gradient: 0.04450395256916945, b_gradient: -0.015810276679841896\n",
      "When time is : 1750, get best_k: 12.180496132679982 best_b: -53.91793350317818, and the loss is: 4.60726727196719, k_gradient: 0.08988735177865581, b_gradient: -0.007905138339920948\n",
      "When time is : 1800, get best_k: 12.160505223589077 best_b: -53.81160939250628, and the loss is: 4.604809766271447, k_gradient: 0.00957509881422879, b_gradient: -0.019762845849802372\n",
      "When time is : 1850, get best_k: 12.141657397502147 best_b: -53.7080520802534, and the loss is: 4.602587091914059, k_gradient: -0.014614624505929543, b_gradient: -0.023715415019762844\n",
      "When time is : 1900, get best_k: 12.127509176158306 best_b: -53.60409951108354, and the loss is: 4.600392840057951, k_gradient: 0.009575098814228803, b_gradient: -0.019762845849802372\n",
      "When time is : 1950, get best_k: 12.112108780901423 best_b: -53.50133271266462, and the loss is: 4.598214415355957, k_gradient: 0.00957509881422879, b_gradient: -0.019762845849802372\n",
      "k: 12.099585065486403, b: -53.40489002491758\n"
     ]
    },
    {
     "data": {
      "image/png": "[encoded data removed]",
      "text/plain": [
       "<Figure size 432x288 with 1 Axes>"
      ]
     },
     "metadata": {
      "needs_background": "light"
     },
     "output_type": "display_data"
    }
   ],
   "source": [
    "k, b = gradient_descent_optimize(2000, loss_2, partial_k_2, partial_b_2, 0.1)\n",
    "draw_result(k, b)"
   ]
  },
  {
   "cell_type": "markdown",
   "metadata": {},
   "source": [
    "### Part 3: Finish the Solution Parse Part of Edit-Distance"
   ]
  },
  {
   "cell_type": "code",
   "execution_count": 69,
   "metadata": {},
   "outputs": [],
   "source": [
    "from functools import lru_cache"
   ]
  },
  {
   "cell_type": "code",
   "execution_count": 145,
   "metadata": {},
   "outputs": [],
   "source": [
    "solution = {}\n",
    "\n",
    "@lru_cache(maxsize=2**10)\n",
    "def edit_distance(string1, string2):\n",
    "    \n",
    "    if len(string1) == 0: return len(string2)\n",
    "    if len(string2) == 0: return len(string1)\n",
    "    \n",
    "    tail_s1 = string1[-1]\n",
    "    tail_s2 = string2[-1]\n",
    "    \n",
    "    candidates = [\n",
    "        (edit_distance(string1[:-1], string2) + 1, 'DEL {}'.format(tail_s1)),  # string 1 delete tail\n",
    "        (edit_distance(string1, string2[:-1]) + 1, 'ADD {}'.format(tail_s2)),  # string 1 add tail of string2\n",
    "    ]\n",
    "    \n",
    "    if tail_s1 == tail_s2:\n",
    "        both_forward = (edit_distance(string1[:-1], string2[:-1]) + 0, '')\n",
    "    else:\n",
    "        both_forward = (edit_distance(string1[:-1], string2[:-1]) + 1, 'SUB {} => {}'.format(tail_s1, tail_s2))\n",
    "\n",
    "    candidates.append(both_forward)\n",
    "    min_distance, operation = min(candidates, key=lambda x: x[0])\n",
    "    solution[(string1, string2)] = operation\n",
    "    return min_distance"
   ]
  },
  {
   "cell_type": "code",
   "execution_count": 136,
   "metadata": {},
   "outputs": [],
   "source": [
    "def parse_distance(string1, string2, solution):\n",
    "    if string1 == string2: return []\n",
    "    operation = solution[(string1, string2)]\n",
    "    split = operation.split()\n",
    "    if len(split) == 0:\n",
    "        string1 = string1[:-1]\n",
    "        string2 = string2[:-1]\n",
    "        return parse_distance(string1, string2, solution)\n",
    "    if 'ADD' == split[0]: string2 = string2[:-1]\n",
    "    elif 'DEL' == split[0]: string1 = string1[:-1]\n",
    "    else: \n",
    "        string1 = string1[:-1]\n",
    "        string2 = string2[:-1]\n",
    "    return [operation] + parse_distance(string1, string2, solution)\n",
    "    "
   ]
  },
  {
   "cell_type": "code",
   "execution_count": 142,
   "metadata": {},
   "outputs": [
    {
     "data": {
      "text/plain": [
       "6"
      ]
     },
     "execution_count": 142,
     "metadata": {},
     "output_type": "execute_result"
    }
   ],
   "source": [
    "edit_distance('ABCDEF', 'FEDCBA')"
   ]
  },
  {
   "cell_type": "code",
   "execution_count": 143,
   "metadata": {},
   "outputs": [
    {
     "data": {
      "text/plain": [
       "{('A', 'F'): 'SUB A => F',\n",
       " ('A', 'FE'): 'ADD E',\n",
       " ('A', 'FED'): 'ADD D',\n",
       " ('A', 'FEDC'): 'ADD C',\n",
       " ('A', 'FEDCB'): 'ADD B',\n",
       " ('A', 'FEDCBA'): '',\n",
       " ('AB', 'F'): 'DEL B',\n",
       " ('AB', 'FE'): 'SUB B => E',\n",
       " ('AB', 'FED'): 'ADD D',\n",
       " ('AB', 'FEDC'): 'ADD C',\n",
       " ('AB', 'FEDCB'): '',\n",
       " ('AB', 'FEDCBA'): 'ADD A',\n",
       " ('ABC', 'F'): 'DEL C',\n",
       " ('ABC', 'FE'): 'DEL C',\n",
       " ('ABC', 'FED'): 'SUB C => D',\n",
       " ('ABC', 'FEDC'): '',\n",
       " ('ABC', 'FEDCB'): 'ADD B',\n",
       " ('ABC', 'FEDCBA'): 'ADD A',\n",
       " ('ABCD', 'F'): 'DEL D',\n",
       " ('ABCD', 'FE'): 'DEL D',\n",
       " ('ABCD', 'FED'): '',\n",
       " ('ABCD', 'FEDC'): 'DEL D',\n",
       " ('ABCD', 'FEDCB'): 'SUB D => B',\n",
       " ('ABCD', 'FEDCBA'): 'ADD A',\n",
       " ('ABCDE', 'F'): 'DEL E',\n",
       " ('ABCDE', 'FE'): '',\n",
       " ('ABCDE', 'FED'): 'DEL E',\n",
       " ('ABCDE', 'FEDC'): 'SUB E => C',\n",
       " ('ABCDE', 'FEDCB'): 'DEL E',\n",
       " ('ABCDE', 'FEDCBA'): 'SUB E => A',\n",
       " ('ABCDEF', 'F'): '',\n",
       " ('ABCDEF', 'FE'): 'DEL F',\n",
       " ('ABCDEF', 'FED'): 'DEL F',\n",
       " ('ABCDEF', 'FEDC'): 'DEL F',\n",
       " ('ABCDEF', 'FEDCB'): 'SUB F => B',\n",
       " ('ABCDEF', 'FEDCBA'): 'DEL F'}"
      ]
     },
     "execution_count": 143,
     "metadata": {},
     "output_type": "execute_result"
    }
   ],
   "source": [
    "solution"
   ]
  },
  {
   "cell_type": "code",
   "execution_count": 144,
   "metadata": {},
   "outputs": [
    {
     "data": {
      "text/plain": [
       "['DEL F', 'SUB E => A', 'SUB D => B', 'ADD D', 'SUB B => E', 'SUB A => F']"
      ]
     },
     "execution_count": 144,
     "metadata": {},
     "output_type": "execute_result"
    }
   ],
   "source": [
    "parse_distance('ABCDEF', 'FEDCBA', solution)"
   ]
  },
  {
   "cell_type": "code",
   "execution_count": 146,
   "metadata": {},
   "outputs": [
    {
     "data": {
      "text/plain": [
       "1"
      ]
     },
     "execution_count": 146,
     "metadata": {},
     "output_type": "execute_result"
    }
   ],
   "source": [
    "edit_distance('ATCGGAA', 'ATCGGGA')"
   ]
  },
  {
   "cell_type": "code",
   "execution_count": 147,
   "metadata": {},
   "outputs": [
    {
     "data": {
      "text/plain": [
       "{('A', 'A'): '',\n",
       " ('A', 'AT'): 'ADD T',\n",
       " ('A', 'ATC'): 'ADD C',\n",
       " ('A', 'ATCG'): 'ADD G',\n",
       " ('A', 'ATCGG'): 'ADD G',\n",
       " ('A', 'ATCGGG'): 'ADD G',\n",
       " ('A', 'ATCGGGA'): 'ADD A',\n",
       " ('AT', 'A'): 'DEL T',\n",
       " ('AT', 'AT'): '',\n",
       " ('AT', 'ATC'): 'ADD C',\n",
       " ('AT', 'ATCG'): 'ADD G',\n",
       " ('AT', 'ATCGG'): 'ADD G',\n",
       " ('AT', 'ATCGGG'): 'ADD G',\n",
       " ('AT', 'ATCGGGA'): 'ADD A',\n",
       " ('ATC', 'A'): 'DEL C',\n",
       " ('ATC', 'AT'): 'DEL C',\n",
       " ('ATC', 'ATC'): '',\n",
       " ('ATC', 'ATCG'): 'ADD G',\n",
       " ('ATC', 'ATCGG'): 'ADD G',\n",
       " ('ATC', 'ATCGGG'): 'ADD G',\n",
       " ('ATC', 'ATCGGGA'): 'ADD A',\n",
       " ('ATCG', 'A'): 'DEL G',\n",
       " ('ATCG', 'AT'): 'DEL G',\n",
       " ('ATCG', 'ATC'): 'DEL G',\n",
       " ('ATCG', 'ATCG'): '',\n",
       " ('ATCG', 'ATCGG'): 'ADD G',\n",
       " ('ATCG', 'ATCGGG'): 'ADD G',\n",
       " ('ATCG', 'ATCGGGA'): 'ADD A',\n",
       " ('ATCGG', 'A'): 'DEL G',\n",
       " ('ATCGG', 'AT'): 'DEL G',\n",
       " ('ATCGG', 'ATC'): 'DEL G',\n",
       " ('ATCGG', 'ATCG'): 'DEL G',\n",
       " ('ATCGG', 'ATCGG'): '',\n",
       " ('ATCGG', 'ATCGGG'): 'ADD G',\n",
       " ('ATCGG', 'ATCGGGA'): 'ADD A',\n",
       " ('ATCGGA', 'A'): 'DEL A',\n",
       " ('ATCGGA', 'AT'): 'DEL A',\n",
       " ('ATCGGA', 'ATC'): 'DEL A',\n",
       " ('ATCGGA', 'ATCG'): 'DEL A',\n",
       " ('ATCGGA', 'ATCGG'): 'DEL A',\n",
       " ('ATCGGA', 'ATCGGG'): 'SUB A => G',\n",
       " ('ATCGGA', 'ATCGGGA'): '',\n",
       " ('ATCGGAA', 'A'): 'DEL A',\n",
       " ('ATCGGAA', 'AT'): 'DEL A',\n",
       " ('ATCGGAA', 'ATC'): 'DEL A',\n",
       " ('ATCGGAA', 'ATCG'): 'DEL A',\n",
       " ('ATCGGAA', 'ATCGG'): 'DEL A',\n",
       " ('ATCGGAA', 'ATCGGG'): 'DEL A',\n",
       " ('ATCGGAA', 'ATCGGGA'): ''}"
      ]
     },
     "execution_count": 147,
     "metadata": {},
     "output_type": "execute_result"
    }
   ],
   "source": [
    "solution"
   ]
  },
  {
   "cell_type": "code",
   "execution_count": 148,
   "metadata": {},
   "outputs": [
    {
     "data": {
      "text/plain": [
       "['SUB A => G']"
      ]
     },
     "execution_count": 148,
     "metadata": {},
     "output_type": "execute_result"
    }
   ],
   "source": [
    "parse_distance('ATCGGAA', 'ATCGGGA', solution)"
   ]
  },
  {
   "cell_type": "markdown",
   "metadata": {},
   "source": [
    "### Part 4 Choose 1 - 2 books to keep reading: \n",
    "\n",
    "+ SICP, Structure and Interpretation of Computer Programming. \n",
    "+ Introduction to Algorithms \n",
    "+ Artificial Intelligence A Modern Approach (3rd Edition) \n",
    "+ Code Complete 2 \n",
    "+ Programming Pearls \n",
    "+ Deep Learning\n",
    "+ 黑客与画家\n",
    "+ 数学之美\n",
    "+ Fluent Python\n",
    "+ Hands on Tensorflow\n",
    "+ Conference: NIPS_ ICML_ ICLR_ ACL_ AAAI\n",
    "\n",
    "> most books you may find in our github: https://github.com/Computing-Intelligence/References"
   ]
  },
  {
   "cell_type": "markdown",
   "metadata": {},
   "source": [
    "## Part 5-1: review machine learning"
   ]
  },
  {
   "cell_type": "markdown",
   "metadata": {},
   "source": [
    "1. Why do we use Derivative / Gredient to fit a target function?¶"
   ]
  },
  {
   "cell_type": "markdown",
   "metadata": {},
   "source": [
    "Ans: 通过计算导数得到函数变化情况，使得结果更快收敛，学习速度更快"
   ]
  },
  {
   "cell_type": "markdown",
   "metadata": {},
   "source": [
    "2. In the words 'Gredient Descent', what's the Gredient and what's the Descent?¶"
   ]
  },
  {
   "cell_type": "markdown",
   "metadata": {},
   "source": [
    "Ans: 梯度即导数，下降就是沿导数减小的方向优化"
   ]
  },
  {
   "cell_type": "markdown",
   "metadata": {},
   "source": [
    "\n",
    "3. What's the advantages of the 3rd gradient descent method compared to the previous methods?"
   ]
  },
  {
   "cell_type": "markdown",
   "metadata": {},
   "source": [
    "Ans: 通过计算导数使得函数不断向最优值方向变化，得到最优值所需的学习次数更少"
   ]
  },
  {
   "cell_type": "markdown",
   "metadata": {},
   "source": [
    "4. Using the simple words to describe: What's the machine leanring.¶"
   ]
  },
  {
   "cell_type": "markdown",
   "metadata": {},
   "source": [
    "Ans: 用计算手段，学习经验改善系统性能"
   ]
  },
  {
   "cell_type": "markdown",
   "metadata": {},
   "source": [
    "### Part 5: Answer following questions: "
   ]
  },
  {
   "cell_type": "markdown",
   "metadata": {},
   "source": [
    "1. Why do we need dynamic programming? What's the difference of dynamic programming and previous talked `search` problme? "
   ]
  },
  {
   "cell_type": "markdown",
   "metadata": {},
   "source": [
    "Ans: 动态规划缓存已计算过的结果，当需要已计算过的结果不需要再重复计算，提高计算效率"
   ]
  },
  {
   "cell_type": "markdown",
   "metadata": {},
   "source": [
    "2. Why do we still need dynamic programming? Why not we train a machine learning to fit a function which could get the `right` answer based on inputs?"
   ]
  },
  {
   "cell_type": "markdown",
   "metadata": {},
   "source": [
    "Ans: 机器学习不是银弹，动态规划简单，有自己的适用场景"
   ]
  },
  {
   "cell_type": "markdown",
   "metadata": {},
   "source": [
    "3. Can you catch up at least 3 problems which could solved by Dynamic Programming? "
   ]
  },
  {
   "cell_type": "code",
   "execution_count": null,
   "metadata": {},
   "outputs": [],
   "source": [
    "Ans: 编辑距离，N皇后问题，斐波那契数列"
   ]
  },
  {
   "cell_type": "markdown",
   "metadata": {},
   "source": [
    "4. Can you catch up at least 3 problems wich could sloved by Edit Distance? "
   ]
  },
  {
   "cell_type": "markdown",
   "metadata": {},
   "source": [
    "Ans: 文本相似度计算"
   ]
  },
  {
   "cell_type": "markdown",
   "metadata": {},
   "source": [
    "5. Please summarize the three main features of Dynamic Programming, and make a concise explain for each feature. "
   ]
  },
  {
   "cell_type": "markdown",
   "metadata": {},
   "source": [
    "Ans: \n",
    "    1. 阶段，将问题分解为多个阶段\n",
    "    2. 决策，根据当前阶段的状态做出不同的决定\n",
    "    3. 最优指标函数，衡量所选定策略优劣"
   ]
  },
  {
   "cell_type": "markdown",
   "metadata": {},
   "source": [
    "6. What's the disadvantages of Dynamic Programming? (You may need search by yourself in Internet)"
   ]
  },
  {
   "cell_type": "markdown",
   "metadata": {},
   "source": [
    "Ans: 占用内存空间，当问题比较复杂，数据量较大，可能内存溢出"
   ]
  },
  {
   "cell_type": "markdown",
   "metadata": {},
   "source": [
    "## Part 6 Preparation of Project-01"
   ]
  },
  {
   "cell_type": "markdown",
   "metadata": {},
   "source": [
    "1. Using python Flask or Bottle to finish your first simple web app:\n",
    "> https://bottlepy.org/\n",
    "\n",
    "2. Learn what's the SQL, and try some simple SQL operations:\n",
    "> https://www.w3schools.com/sql/sql_intro.asp\n",
    "\n",
    "3. Learn what's the HTML ( *ONLY* need to know the basic things)\n",
    "> https://getbootstrap.com/; https://www.w3schools.com/html/"
   ]
  },
  {
   "cell_type": "markdown",
   "metadata": {},
   "source": [
    "### (Optinal) Finish the k-person-salesman problem:"
   ]
  },
  {
   "cell_type": "code",
   "execution_count": 7,
   "metadata": {},
   "outputs": [],
   "source": [
    "import random\n",
    "import matplotlib.pylab as plt"
   ]
  },
  {
   "cell_type": "code",
   "execution_count": 8,
   "metadata": {},
   "outputs": [],
   "source": [
    "latitudes = [random.randint(-100, 100) for _ in range(20)]\n",
    "longitude = [random.randint(-100, 100) for _ in range(20)]"
   ]
  },
  {
   "cell_type": "code",
   "execution_count": 9,
   "metadata": {},
   "outputs": [
    {
     "data": {
      "text/plain": [
       "<matplotlib.collections.PathCollection at 0x1dc1892a940>"
      ]
     },
     "execution_count": 9,
     "metadata": {},
     "output_type": "execute_result"
    },
    {
     "data": {
      "image/png": "[encoded data removed]",
      "text/plain": [
       "<Figure size 432x288 with 1 Axes>"
      ]
     },
     "metadata": {
      "needs_background": "light"
     },
     "output_type": "display_data"
    }
   ],
   "source": [
    "plt.scatter(latitudes, longitude)"
   ]
  },
  {
   "cell_type": "markdown",
   "metadata": {},
   "source": [
    "给定一个初始点 𝑃, 已经 𝑘个车辆，如何从该点出发，经这 k 个车辆经过所以的点全部一次，而且所走过的路程最短?\n",
    "\n",
    "例如："
   ]
  },
  {
   "cell_type": "code",
   "execution_count": 153,
   "metadata": {},
   "outputs": [],
   "source": [
    "chosen_p = (-50, 10)\n",
    "chosen_p2 = (1, 30)\n",
    "chosen_p3 = (99, 15)"
   ]
  },
  {
   "cell_type": "code",
   "execution_count": 154,
   "metadata": {},
   "outputs": [],
   "source": [
    "import matplotlib.pyplot as plt"
   ]
  },
  {
   "cell_type": "code",
   "execution_count": 156,
   "metadata": {
    "scrolled": true
   },
   "outputs": [
    {
     "data": {
      "text/plain": [
       "<matplotlib.collections.PathCollection at 0x1f6930db0b8>"
      ]
     },
     "execution_count": 156,
     "metadata": {},
     "output_type": "execute_result"
    },
    {
     "data": {
      "image/png": "[encoded data removed]",
      "text/plain": [
       "<Figure size 432x288 with 1 Axes>"
      ]
     },
     "metadata": {
      "needs_background": "light"
     },
     "output_type": "display_data"
    }
   ],
   "source": [
    "plt.scatter(latitudes, longitude)\n",
    "plt.scatter([chosen_p[0]], [chosen_p[1]], color='r')\n",
    "plt.scatter([chosen_p2[0]], [chosen_p2[1]], color='r')\n",
    "plt.scatter([chosen_p3[0]], [chosen_p3[1]], color='r')"
   ]
  },
  {
   "cell_type": "code",
   "execution_count": 17,
   "metadata": {},
   "outputs": [],
   "source": [
    "import math\n",
    "import random\n",
    "import time\n",
    "from functools import wraps\n",
    "from functools import lru_cache\n",
    "import matplotlib.pyplot as plt\n",
    "import networkx as nx"
   ]
  },
  {
   "cell_type": "code",
   "execution_count": 18,
   "metadata": {},
   "outputs": [],
   "source": [
    "def to_bit_map(length):\n",
    "    \"\"\"\n",
    "    给定长度，转换成bitmap，从右向左\n",
    "    :param length:\n",
    "    :return:\n",
    "    \"\"\"\n",
    "    return (1 << length) - 1\n",
    "\n",
    "\n",
    "def bit_map_set(bm, i):\n",
    "    \"\"\"\n",
    "    将bm第i位设为1\n",
    "    :param bm:\n",
    "    :param i:\n",
    "    :return:\n",
    "    \"\"\"\n",
    "    return bm | (1 << i)\n",
    "\n",
    "\n",
    "def bit_map_clean(bm, i):\n",
    "    \"\"\"\n",
    "    将bm第i位设为0\n",
    "    :param bm:\n",
    "    :param i:\n",
    "    :return:\n",
    "    \"\"\"\n",
    "    return bm & (~(1 << i))\n",
    "\n",
    "\n",
    "def bit_map_has(bm, i):\n",
    "    \"\"\"\n",
    "    检查bm第i位是否为1\n",
    "    :param bm:\n",
    "    :param i:\n",
    "    :return:\n",
    "    \"\"\"\n",
    "    return bool(bm & (1 << i))\n",
    "\n",
    "\n",
    "def bit_map_all(bm):\n",
    "    \"\"\"\n",
    "    获取所有为1的索引\n",
    "    :param bm:\n",
    "    :return:\n",
    "    \"\"\"\n",
    "    return [i for i in range(len(str(bin(bm))[2:])) if bit_map_has(bm, i)]\n",
    "\n",
    "\n",
    "def bit_map_str(bm, length=None):\n",
    "    s = str(bin(bm))[2:]\n",
    "    if not length:\n",
    "        length = len(s)\n",
    "    return '0' * (length - len(s)) + s\n",
    "\n",
    "\n",
    "def distance(p1, p2):\n",
    "    \"\"\"\n",
    "    计算两点距离\n",
    "    :param p1: 数组points的索引\n",
    "    :param p2: 数组points的索引\n",
    "    :return:\n",
    "    \"\"\"\n",
    "    return math.sqrt((points[p1][0] - points[p2][0]) ** 2 + (points[p1][1] - points[p2][1]) ** 2)\n",
    "\n",
    "\n",
    "def cache_print(func):\n",
    "    \"\"\"\n",
    "    计算函数耗时\n",
    "    :param func:\n",
    "    :return:\n",
    "    \"\"\"\n",
    "\n",
    "    @wraps(func)\n",
    "    def _warp(*args, **kwargs):\n",
    "        key = tuple(args)\n",
    "        if key in cache:\n",
    "            num = cache[key] + 1\n",
    "            cache[key] = num\n",
    "            print(key, num)\n",
    "        else:\n",
    "            cache[key] = 1\n",
    "        result = func(*args, **kwargs)\n",
    "        return result\n",
    "\n",
    "    return _warp\n",
    "\n",
    "\n",
    "@lru_cache(maxsize=2 ** 30)\n",
    "@cache_print\n",
    "def search(p, bm):\n",
    "    \"\"\"\n",
    "    搜索方案\n",
    "    :param p:\n",
    "    :param bm:\n",
    "    :return:\n",
    "    \"\"\"\n",
    "    rest = bit_map_all(bm)\n",
    "    if len(rest) == 0:\n",
    "        solution[(p, bm)] = p\n",
    "        return distance(0, p)\n",
    "    min_distance, index = min([(distance(p, i) + search(i, bit_map_clean(bm, i)), i) for i in rest], key=lambda x: x[0])\n",
    "    solution[(p, bm)] = index\n",
    "    return min_distance\n",
    "\n",
    "\n",
    "def parse_solution(status, solution_map):\n",
    "    \"\"\"\n",
    "    解析最优方案\n",
    "    :param status:\n",
    "    :param solution_map:\n",
    "    :return:\n",
    "    \"\"\"\n",
    "    if status[1] == 0:\n",
    "        return []\n",
    "    p = solution_map[status]\n",
    "    return [p] + parse_solution((p, bit_map_clean(status[1], p)), solution_map)\n",
    "\n",
    "\n",
    "def draw_solution(idx_path, points_coord):\n",
    "    \"\"\"\n",
    "    画出路径\n",
    "    :param idx_path: 路径连线，points的索引\n",
    "    :param points_coord: 点的坐标列表\n",
    "    :return:\n",
    "    \"\"\"\n",
    "    location_map = {}\n",
    "    for i, p in enumerate(points_coord):\n",
    "        location_map[i] = p\n",
    "    edges = [(idx_path[i - 1], idx_path[i]) for i in range(1, len(idx_path))]\n",
    "\n",
    "    DG = nx.DiGraph()\n",
    "    DG.add_edges_from(edges)\n",
    "    nx.draw_networkx_nodes(DG, location_map)\n",
    "    nx.draw_networkx_edges(DG, location_map, edge_color='r', arrows=True)\n",
    "    nx.draw_networkx_labels(DG, location_map)\n",
    "    plt.show()\n",
    "\n",
    "\n",
    "def elapsed_time(func):\n",
    "    \"\"\"\n",
    "    计算函数耗时\n",
    "    :param func:\n",
    "    :return:\n",
    "    \"\"\"\n",
    "\n",
    "    @wraps(func)\n",
    "    def _warp(*args, **kwargs):\n",
    "        t0 = time.time()\n",
    "        result = func(*args, **kwargs)\n",
    "        name = func.__name__\n",
    "        elapsed = time.time() - t0\n",
    "        arg_lst = []\n",
    "        if args:\n",
    "            arg_lst.append(', '.join(repr(arg) for arg in args))\n",
    "        if kwargs:\n",
    "            pairs = ['%s=%r' % (k, w) for k, w in sorted(kwargs.items())]\n",
    "            arg_lst.append(', '.join(pairs))\n",
    "        arg_str = ', '.join(arg_lst)\n",
    "        print('%s(%s) -> %r, elapsed time:%0.8fs' % (name, arg_str, result, elapsed))\n",
    "        return result\n",
    "\n",
    "    return _warp\n",
    "\n",
    "\n",
    "@elapsed_time\n",
    "def search_solution(n):\n",
    "    \"\"\"\n",
    "    搜索最优路径\n",
    "    :param n: 点的个数\n",
    "    :return: 最优路径，点的索引列表\n",
    "    \"\"\"\n",
    "    bitmap = to_bit_map(n)\n",
    "    # 搜索路径\n",
    "    search(0, bit_map_clean(bitmap, 0))\n",
    "    # 解析路径\n",
    "    return [0] + parse_solution((0, bit_map_clean(bitmap, 0)), solution) + [0]\n"
   ]
  },
  {
   "cell_type": "code",
   "execution_count": 19,
   "metadata": {},
   "outputs": [],
   "source": [
    "latitudes = [random.randint(-100, 100) for _ in range(15)]\n",
    "longitude = [random.randint(-100, 100) for _ in range(15)]"
   ]
  },
  {
   "cell_type": "code",
   "execution_count": 20,
   "metadata": {},
   "outputs": [],
   "source": [
    "points = list(zip(latitudes, longitude))"
   ]
  },
  {
   "cell_type": "code",
   "execution_count": 21,
   "metadata": {},
   "outputs": [
    {
     "data": {
      "text/plain": [
       "[(-24, 82),\n",
       " (-37, -86),\n",
       " (56, 35),\n",
       " (96, 22),\n",
       " (89, -2),\n",
       " (-21, -54),\n",
       " (93, 62),\n",
       " (90, 38),\n",
       " (-54, 96),\n",
       " (75, -67),\n",
       " (5, -27),\n",
       " (-96, 26),\n",
       " (3, 84),\n",
       " (-81, -55),\n",
       " (40, 69)]"
      ]
     },
     "execution_count": 21,
     "metadata": {},
     "output_type": "execute_result"
    }
   ],
   "source": [
    "points"
   ]
  },
  {
   "cell_type": "code",
   "execution_count": 22,
   "metadata": {},
   "outputs": [],
   "source": [
    "solution = {}\n",
    "cache = {}"
   ]
  },
  {
   "cell_type": "code",
   "execution_count": 23,
   "metadata": {},
   "outputs": [
    {
     "name": "stdout",
     "output_type": "stream",
     "text": [
      "search_solution(15) -> [0, 8, 11, 13, 1, 5, 10, 9, 4, 3, 7, 6, 2, 14, 12, 0], elapsed time:1.87102771s\n"
     ]
    }
   ],
   "source": [
    "path = search_solution(len(points))"
   ]
  },
  {
   "cell_type": "code",
   "execution_count": 26,
   "metadata": {},
   "outputs": [
    {
     "data": {
      "text/plain": [
       "[0, 8, 11, 13, 1, 5, 10, 9, 4, 3, 7, 6, 2, 14, 12, 0]"
      ]
     },
     "execution_count": 26,
     "metadata": {},
     "output_type": "execute_result"
    }
   ],
   "source": [
    "path"
   ]
  },
  {
   "cell_type": "code",
   "execution_count": 25,
   "metadata": {},
   "outputs": [
    {
     "data": {
      "image/png": "[encoded data removed]",
      "text/plain": [
       "<Figure size 432x288 with 1 Axes>"
      ]
     },
     "metadata": {},
     "output_type": "display_data"
    }
   ],
   "source": [
    "draw_solution(path, points)"
   ]
  }
 ],
 "metadata": {
  "kernelspec": {
   "display_name": "Python 3",
   "language": "python",
   "name": "python3"
  },
  "language_info": {
   "codemirror_mode": {
    "name": "ipython",
    "version": 3
   },
   "file_extension": ".py",
   "mimetype": "text/x-python",
   "name": "python",
   "nbconvert_exporter": "python",
   "pygments_lexer": "ipython3",
   "version": "3.7.3"
  }
 },
 "nbformat": 4,
 "nbformat_minor": 2
}
