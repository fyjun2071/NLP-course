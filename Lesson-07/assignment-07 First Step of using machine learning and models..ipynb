{
 "cells": [
  {
   "cell_type": "markdown",
   "metadata": {},
   "source": [
    "## Assignment-07 First Step of using machine learning and models."
   ]
  },
  {
   "cell_type": "markdown",
   "metadata": {},
   "source": [
    "### 任务描述"
   ]
  },
  {
   "cell_type": "markdown",
   "metadata": {},
   "source": [
    "报社等相关的机构，往往会遇到一个问题，就是别人家的机构使用自己的文章但是并没有标明来源。 在本次任务中，我们将解决新华社的文章被抄袭引用的问题。"
   ]
  },
  {
   "cell_type": "markdown",
   "metadata": {},
   "source": [
    "给定的数据集合中，存在一些新闻预料，该预料是来自新华社，但是其来源并不是新华社，请设计技巧学习模型解决该问题。"
   ]
  },
  {
   "cell_type": "markdown",
   "metadata": {},
   "source": [
    "![](https://timgsa.baidu.com/timg?image&quality=80&size=b9999_10000&sec=1566105348906&di=ee9a2de91207767364853d4decc6cca3&imgtype=0&src=http%3A%2F%2Fmmbiz.qpic.cn%2Fmmbiz_png%2FTicO2kbP6Ao5sCsSQDpehZiczLdC6hDCNvoicjcOCEKX2bLxBc9gVOw28zHyFibfIWq9ceRibP6HDTKReGkr6YyTfQQ%2F640%3Fwx_fmt%3Dpng)"
   ]
  },
  {
   "cell_type": "markdown",
   "metadata": {},
   "source": [
    "### Step1: 数据分析"
   ]
  },
  {
   "cell_type": "markdown",
   "metadata": {},
   "source": [
    "请在课程的GitHub中下载数据集，然后使用pandas进行读取。"
   ]
  },
  {
   "cell_type": "code",
   "execution_count": 6,
   "metadata": {},
   "outputs": [],
   "source": [
    "import pandas as pd"
   ]
  },
  {
   "cell_type": "code",
   "execution_count": 7,
   "metadata": {},
   "outputs": [],
   "source": [
    "csv_path = '/development/jupyter/datasource/sqlResult_1558435.csv'"
   ]
  },
  {
   "cell_type": "code",
   "execution_count": 8,
   "metadata": {},
   "outputs": [],
   "source": [
    "content = pd.read_csv(csv_path, encoding='gb18030')"
   ]
  },
  {
   "cell_type": "code",
   "execution_count": 9,
   "metadata": {},
   "outputs": [],
   "source": [
    "content = content.fillna('')"
   ]
  },
  {
   "cell_type": "code",
   "execution_count": 10,
   "metadata": {},
   "outputs": [
    {
     "data": {
      "text/plain": [
       "89611"
      ]
     },
     "execution_count": 10,
     "metadata": {},
     "output_type": "execute_result"
    }
   ],
   "source": [
    "len(content)"
   ]
  },
  {
   "cell_type": "code",
   "execution_count": 11,
   "metadata": {},
   "outputs": [
    {
     "data": {
      "text/html": [
       "<div>\n",
       "<style scoped>\n",
       "    .dataframe tbody tr th:only-of-type {\n",
       "        vertical-align: middle;\n",
       "    }\n",
       "\n",
       "    .dataframe tbody tr th {\n",
       "        vertical-align: top;\n",
       "    }\n",
       "\n",
       "    .dataframe thead th {\n",
       "        text-align: right;\n",
       "    }\n",
       "</style>\n",
       "<table border=\"1\" class=\"dataframe\">\n",
       "  <thead>\n",
       "    <tr style=\"text-align: right;\">\n",
       "      <th></th>\n",
       "      <th>id</th>\n",
       "      <th>author</th>\n",
       "      <th>source</th>\n",
       "      <th>content</th>\n",
       "      <th>feature</th>\n",
       "      <th>title</th>\n",
       "      <th>url</th>\n",
       "    </tr>\n",
       "  </thead>\n",
       "  <tbody>\n",
       "    <tr>\n",
       "      <th>0</th>\n",
       "      <td>89617</td>\n",
       "      <td></td>\n",
       "      <td>快科技@http://www.kkj.cn/</td>\n",
       "      <td>此外，自本周（6月12日）起，除小米手机6等15款机型外，其余机型已暂停更新发布（含开发版/...</td>\n",
       "      <td>{\"type\":\"科技\",\"site\":\"cnbeta\",\"commentNum\":\"37\"...</td>\n",
       "      <td>小米MIUI 9首批机型曝光：共计15款</td>\n",
       "      <td>http://www.cnbeta.com/articles/tech/623597.htm</td>\n",
       "    </tr>\n",
       "    <tr>\n",
       "      <th>1</th>\n",
       "      <td>89616</td>\n",
       "      <td></td>\n",
       "      <td>快科技@http://www.kkj.cn/</td>\n",
       "      <td>骁龙835作为唯一通过Windows 10桌面平台认证的ARM处理器，高通强调，不会因为只考...</td>\n",
       "      <td>{\"type\":\"科技\",\"site\":\"cnbeta\",\"commentNum\":\"15\"...</td>\n",
       "      <td>骁龙835在Windows 10上的性能表现有望改善</td>\n",
       "      <td>http://www.cnbeta.com/articles/tech/623599.htm</td>\n",
       "    </tr>\n",
       "    <tr>\n",
       "      <th>2</th>\n",
       "      <td>89615</td>\n",
       "      <td></td>\n",
       "      <td>快科技@http://www.kkj.cn/</td>\n",
       "      <td>此前的一加3T搭载的是3400mAh电池，DashCharge快充规格为5V/4A。\\r\\n...</td>\n",
       "      <td>{\"type\":\"科技\",\"site\":\"cnbeta\",\"commentNum\":\"18\"...</td>\n",
       "      <td>一加手机5细节曝光：3300mAh、充半小时用1天</td>\n",
       "      <td>http://www.cnbeta.com/articles/tech/623601.htm</td>\n",
       "    </tr>\n",
       "    <tr>\n",
       "      <th>3</th>\n",
       "      <td>89614</td>\n",
       "      <td></td>\n",
       "      <td>新华社</td>\n",
       "      <td>这是6月18日在葡萄牙中部大佩德罗冈地区拍摄的被森林大火烧毁的汽车。新华社记者张立云摄\\r\\n</td>\n",
       "      <td>{\"type\":\"国际新闻\",\"site\":\"环球\",\"commentNum\":\"0\",\"j...</td>\n",
       "      <td>葡森林火灾造成至少62人死亡 政府宣布进入紧急状态（组图）</td>\n",
       "      <td>http://world.huanqiu.com/hot/2017-06/10866126....</td>\n",
       "    </tr>\n",
       "    <tr>\n",
       "      <th>4</th>\n",
       "      <td>89613</td>\n",
       "      <td>胡淑丽_MN7479</td>\n",
       "      <td>深圳大件事</td>\n",
       "      <td>（原标题：44岁女子跑深圳约会网友被拒，暴雨中裸身奔走……）\\r\\n@深圳交警微博称：昨日清...</td>\n",
       "      <td>{\"type\":\"新闻\",\"site\":\"网易热门\",\"commentNum\":\"978\",...</td>\n",
       "      <td>44岁女子约网友被拒暴雨中裸奔 交警为其披衣相随</td>\n",
       "      <td>http://news.163.com/17/0618/00/CN617P3Q0001875...</td>\n",
       "    </tr>\n",
       "  </tbody>\n",
       "</table>\n",
       "</div>"
      ],
      "text/plain": [
       "      id      author                  source  \\\n",
       "0  89617              快科技@http://www.kkj.cn/   \n",
       "1  89616              快科技@http://www.kkj.cn/   \n",
       "2  89615              快科技@http://www.kkj.cn/   \n",
       "3  89614                                 新华社   \n",
       "4  89613  胡淑丽_MN7479                   深圳大件事   \n",
       "\n",
       "                                             content  \\\n",
       "0  此外，自本周（6月12日）起，除小米手机6等15款机型外，其余机型已暂停更新发布（含开发版/...   \n",
       "1  骁龙835作为唯一通过Windows 10桌面平台认证的ARM处理器，高通强调，不会因为只考...   \n",
       "2  此前的一加3T搭载的是3400mAh电池，DashCharge快充规格为5V/4A。\\r\\n...   \n",
       "3    这是6月18日在葡萄牙中部大佩德罗冈地区拍摄的被森林大火烧毁的汽车。新华社记者张立云摄\\r\\n   \n",
       "4  （原标题：44岁女子跑深圳约会网友被拒，暴雨中裸身奔走……）\\r\\n@深圳交警微博称：昨日清...   \n",
       "\n",
       "                                             feature  \\\n",
       "0  {\"type\":\"科技\",\"site\":\"cnbeta\",\"commentNum\":\"37\"...   \n",
       "1  {\"type\":\"科技\",\"site\":\"cnbeta\",\"commentNum\":\"15\"...   \n",
       "2  {\"type\":\"科技\",\"site\":\"cnbeta\",\"commentNum\":\"18\"...   \n",
       "3  {\"type\":\"国际新闻\",\"site\":\"环球\",\"commentNum\":\"0\",\"j...   \n",
       "4  {\"type\":\"新闻\",\"site\":\"网易热门\",\"commentNum\":\"978\",...   \n",
       "\n",
       "                           title  \\\n",
       "0           小米MIUI 9首批机型曝光：共计15款   \n",
       "1     骁龙835在Windows 10上的性能表现有望改善   \n",
       "2      一加手机5细节曝光：3300mAh、充半小时用1天   \n",
       "3  葡森林火灾造成至少62人死亡 政府宣布进入紧急状态（组图）   \n",
       "4       44岁女子约网友被拒暴雨中裸奔 交警为其披衣相随   \n",
       "\n",
       "                                                 url  \n",
       "0     http://www.cnbeta.com/articles/tech/623597.htm  \n",
       "1     http://www.cnbeta.com/articles/tech/623599.htm  \n",
       "2     http://www.cnbeta.com/articles/tech/623601.htm  \n",
       "3  http://world.huanqiu.com/hot/2017-06/10866126....  \n",
       "4  http://news.163.com/17/0618/00/CN617P3Q0001875...  "
      ]
     },
     "execution_count": 11,
     "metadata": {},
     "output_type": "execute_result"
    }
   ],
   "source": [
    "content.head()"
   ]
  },
  {
   "cell_type": "code",
   "execution_count": 197,
   "metadata": {},
   "outputs": [
    {
     "data": {
      "text/html": [
       "<div>\n",
       "<style scoped>\n",
       "    .dataframe tbody tr th:only-of-type {\n",
       "        vertical-align: middle;\n",
       "    }\n",
       "\n",
       "    .dataframe tbody tr th {\n",
       "        vertical-align: top;\n",
       "    }\n",
       "\n",
       "    .dataframe thead th {\n",
       "        text-align: right;\n",
       "    }\n",
       "</style>\n",
       "<table border=\"1\" class=\"dataframe\">\n",
       "  <thead>\n",
       "    <tr style=\"text-align: right;\">\n",
       "      <th></th>\n",
       "      <th>id</th>\n",
       "      <th>author</th>\n",
       "      <th>source</th>\n",
       "      <th>content</th>\n",
       "      <th>feature</th>\n",
       "      <th>title</th>\n",
       "      <th>url</th>\n",
       "      <th>y</th>\n",
       "    </tr>\n",
       "  </thead>\n",
       "  <tbody>\n",
       "    <tr>\n",
       "      <th>0</th>\n",
       "      <td>89617</td>\n",
       "      <td></td>\n",
       "      <td>快科技@http://www.kkj.cn/</td>\n",
       "      <td>此外，自本周（6月12日）起，除小米手机6等15款机型外，其余机型已暂停更新发布（含开发版/...</td>\n",
       "      <td>{\"type\":\"科技\",\"site\":\"cnbeta\",\"commentNum\":\"37\"...</td>\n",
       "      <td>小米MIUI 9首批机型曝光：共计15款</td>\n",
       "      <td>http://www.cnbeta.com/articles/tech/623597.htm</td>\n",
       "      <td>0</td>\n",
       "    </tr>\n",
       "    <tr>\n",
       "      <th>3</th>\n",
       "      <td>89614</td>\n",
       "      <td></td>\n",
       "      <td>新华社</td>\n",
       "      <td>这是6月18日在葡萄牙中部大佩德罗冈地区拍摄的被森林大火烧毁的汽车。新华社记者张立云摄\\r\\n</td>\n",
       "      <td>{\"type\":\"国际新闻\",\"site\":\"环球\",\"commentNum\":\"0\",\"j...</td>\n",
       "      <td>葡森林火灾造成至少62人死亡 政府宣布进入紧急状态（组图）</td>\n",
       "      <td>http://world.huanqiu.com/hot/2017-06/10866126....</td>\n",
       "      <td>1</td>\n",
       "    </tr>\n",
       "  </tbody>\n",
       "</table>\n",
       "</div>"
      ],
      "text/plain": [
       "      id author                  source  \\\n",
       "0  89617         快科技@http://www.kkj.cn/   \n",
       "3  89614                            新华社   \n",
       "\n",
       "                                             content  \\\n",
       "0  此外，自本周（6月12日）起，除小米手机6等15款机型外，其余机型已暂停更新发布（含开发版/...   \n",
       "3    这是6月18日在葡萄牙中部大佩德罗冈地区拍摄的被森林大火烧毁的汽车。新华社记者张立云摄\\r\\n   \n",
       "\n",
       "                                             feature  \\\n",
       "0  {\"type\":\"科技\",\"site\":\"cnbeta\",\"commentNum\":\"37\"...   \n",
       "3  {\"type\":\"国际新闻\",\"site\":\"环球\",\"commentNum\":\"0\",\"j...   \n",
       "\n",
       "                           title  \\\n",
       "0           小米MIUI 9首批机型曝光：共计15款   \n",
       "3  葡森林火灾造成至少62人死亡 政府宣布进入紧急状态（组图）   \n",
       "\n",
       "                                                 url  y  \n",
       "0     http://www.cnbeta.com/articles/tech/623597.htm  0  \n",
       "3  http://world.huanqiu.com/hot/2017-06/10866126....  1  "
      ]
     },
     "execution_count": 197,
     "metadata": {},
     "output_type": "execute_result"
    }
   ],
   "source": [
    "content.iloc[[0, 3], :]"
   ]
  },
  {
   "cell_type": "markdown",
   "metadata": {},
   "source": [
    "### Step2: 数据预处理"
   ]
  },
  {
   "cell_type": "markdown",
   "metadata": {},
   "source": [
    "将pandas中的数据，依据是否是新华社的文章，请改变成新的数据dataframe: <content, y>, 其中，content是文章内容，y是0或者1. 你可能要使用到pandas的dataframe操作。https://pandas.pydata.org/pandas-docs/stable/reference/api/pandas.DataFrame.apply.html"
   ]
  },
  {
   "cell_type": "code",
   "execution_count": 12,
   "metadata": {},
   "outputs": [
    {
     "data": {
      "text/plain": [
       "78661"
      ]
     },
     "execution_count": 12,
     "metadata": {},
     "output_type": "execute_result"
    }
   ],
   "source": [
    "xinhua_news = content[content['source'] == '新华社']\n",
    "len(xinhua_news)"
   ]
  },
  {
   "cell_type": "code",
   "execution_count": 13,
   "metadata": {},
   "outputs": [],
   "source": [
    "# 添加y\n",
    "content['y'] = content.source.apply(lambda x: 1 if x=='新华社' else 0)"
   ]
  },
  {
   "cell_type": "code",
   "execution_count": 14,
   "metadata": {},
   "outputs": [
    {
     "data": {
      "text/html": [
       "<div>\n",
       "<style scoped>\n",
       "    .dataframe tbody tr th:only-of-type {\n",
       "        vertical-align: middle;\n",
       "    }\n",
       "\n",
       "    .dataframe tbody tr th {\n",
       "        vertical-align: top;\n",
       "    }\n",
       "\n",
       "    .dataframe thead th {\n",
       "        text-align: right;\n",
       "    }\n",
       "</style>\n",
       "<table border=\"1\" class=\"dataframe\">\n",
       "  <thead>\n",
       "    <tr style=\"text-align: right;\">\n",
       "      <th></th>\n",
       "      <th>id</th>\n",
       "      <th>author</th>\n",
       "      <th>source</th>\n",
       "      <th>content</th>\n",
       "      <th>feature</th>\n",
       "      <th>title</th>\n",
       "      <th>url</th>\n",
       "      <th>y</th>\n",
       "    </tr>\n",
       "  </thead>\n",
       "  <tbody>\n",
       "    <tr>\n",
       "      <th>0</th>\n",
       "      <td>89617</td>\n",
       "      <td></td>\n",
       "      <td>快科技@http://www.kkj.cn/</td>\n",
       "      <td>此外，自本周（6月12日）起，除小米手机6等15款机型外，其余机型已暂停更新发布（含开发版/...</td>\n",
       "      <td>{\"type\":\"科技\",\"site\":\"cnbeta\",\"commentNum\":\"37\"...</td>\n",
       "      <td>小米MIUI 9首批机型曝光：共计15款</td>\n",
       "      <td>http://www.cnbeta.com/articles/tech/623597.htm</td>\n",
       "      <td>0</td>\n",
       "    </tr>\n",
       "    <tr>\n",
       "      <th>1</th>\n",
       "      <td>89616</td>\n",
       "      <td></td>\n",
       "      <td>快科技@http://www.kkj.cn/</td>\n",
       "      <td>骁龙835作为唯一通过Windows 10桌面平台认证的ARM处理器，高通强调，不会因为只考...</td>\n",
       "      <td>{\"type\":\"科技\",\"site\":\"cnbeta\",\"commentNum\":\"15\"...</td>\n",
       "      <td>骁龙835在Windows 10上的性能表现有望改善</td>\n",
       "      <td>http://www.cnbeta.com/articles/tech/623599.htm</td>\n",
       "      <td>0</td>\n",
       "    </tr>\n",
       "    <tr>\n",
       "      <th>2</th>\n",
       "      <td>89615</td>\n",
       "      <td></td>\n",
       "      <td>快科技@http://www.kkj.cn/</td>\n",
       "      <td>此前的一加3T搭载的是3400mAh电池，DashCharge快充规格为5V/4A。\\r\\n...</td>\n",
       "      <td>{\"type\":\"科技\",\"site\":\"cnbeta\",\"commentNum\":\"18\"...</td>\n",
       "      <td>一加手机5细节曝光：3300mAh、充半小时用1天</td>\n",
       "      <td>http://www.cnbeta.com/articles/tech/623601.htm</td>\n",
       "      <td>0</td>\n",
       "    </tr>\n",
       "    <tr>\n",
       "      <th>3</th>\n",
       "      <td>89614</td>\n",
       "      <td></td>\n",
       "      <td>新华社</td>\n",
       "      <td>这是6月18日在葡萄牙中部大佩德罗冈地区拍摄的被森林大火烧毁的汽车。新华社记者张立云摄\\r\\n</td>\n",
       "      <td>{\"type\":\"国际新闻\",\"site\":\"环球\",\"commentNum\":\"0\",\"j...</td>\n",
       "      <td>葡森林火灾造成至少62人死亡 政府宣布进入紧急状态（组图）</td>\n",
       "      <td>http://world.huanqiu.com/hot/2017-06/10866126....</td>\n",
       "      <td>1</td>\n",
       "    </tr>\n",
       "    <tr>\n",
       "      <th>4</th>\n",
       "      <td>89613</td>\n",
       "      <td>胡淑丽_MN7479</td>\n",
       "      <td>深圳大件事</td>\n",
       "      <td>（原标题：44岁女子跑深圳约会网友被拒，暴雨中裸身奔走……）\\r\\n@深圳交警微博称：昨日清...</td>\n",
       "      <td>{\"type\":\"新闻\",\"site\":\"网易热门\",\"commentNum\":\"978\",...</td>\n",
       "      <td>44岁女子约网友被拒暴雨中裸奔 交警为其披衣相随</td>\n",
       "      <td>http://news.163.com/17/0618/00/CN617P3Q0001875...</td>\n",
       "      <td>0</td>\n",
       "    </tr>\n",
       "    <tr>\n",
       "      <th>5</th>\n",
       "      <td>89612</td>\n",
       "      <td>张怡</td>\n",
       "      <td>中国证券报?中证网</td>\n",
       "      <td>受到A股被纳入MSCI指数的利好消息刺激，A股市场从周三开始再度上演龙马行情，周四上午金...</td>\n",
       "      <td>{\"type\":\"市场\",\"site\":\"中证网\",\"commentNum\":\"0\",\"jo...</td>\n",
       "      <td>金融股一枝独秀 配置价值犹存</td>\n",
       "      <td>http://www.cs.com.cn/gppd/201706/t20170623_533...</td>\n",
       "      <td>0</td>\n",
       "    </tr>\n",
       "    <tr>\n",
       "      <th>6</th>\n",
       "      <td>89611</td>\n",
       "      <td></td>\n",
       "      <td>威锋网@http://www.feng.com/</td>\n",
       "      <td>虽然至今夏普智能手机在市场上无法排得上号，已经完全没落，并于 2013 年退出中国市场，但是...</td>\n",
       "      <td>{\"type\":\"科技\",\"site\":\"cnbeta\",\"commentNum\":\"21\"...</td>\n",
       "      <td>配骁龙660 全面屏鼻祖夏普新机酝酿中</td>\n",
       "      <td>http://www.cnbeta.com/articles/tech/623603.htm</td>\n",
       "      <td>0</td>\n",
       "    </tr>\n",
       "    <tr>\n",
       "      <th>7</th>\n",
       "      <td>89610</td>\n",
       "      <td>申玉彬 整理</td>\n",
       "      <td>中国证券报?中证网</td>\n",
       "      <td>沙漠雄鹰：震荡有利消化套牢筹码\\r\\n　　周四开盘上证50在银行券商大蓝筹带动下一度涨近...</td>\n",
       "      <td>{\"type\":\"市场\",\"site\":\"中证网\",\"commentNum\":\"0\",\"jo...</td>\n",
       "      <td>博友早评：震荡有利消化套牢筹码</td>\n",
       "      <td>http://www.cs.com.cn/gppd/201706/t20170623_533...</td>\n",
       "      <td>0</td>\n",
       "    </tr>\n",
       "    <tr>\n",
       "      <th>8</th>\n",
       "      <td>89609</td>\n",
       "      <td>李杭_BJS4645</td>\n",
       "      <td>荆楚网-楚天都市报</td>\n",
       "      <td>（原标题：武汉警方一下子抓了808人，还都是俊男靓女！原来他们每天偷偷摸摸干这事！）\\r\\n...</td>\n",
       "      <td>{\"type\":\"新闻\",\"site\":\"网易热门\",\"commentNum\":\"1600\"...</td>\n",
       "      <td>武汉千余警察出动 抓获808名俊男靓女全是诈骗犯</td>\n",
       "      <td>http://news.163.com/17/0614/14/CMT9N8G80001899...</td>\n",
       "      <td>0</td>\n",
       "    </tr>\n",
       "    <tr>\n",
       "      <th>9</th>\n",
       "      <td>89608</td>\n",
       "      <td>吴瞬</td>\n",
       "      <td>中国证券报?中证网</td>\n",
       "      <td>6月21日，A股纳入MSCI指数尘埃落定，但当天被寄予厚望的券商股并未扛起反弹大旗。22...</td>\n",
       "      <td>{\"type\":\"市场\",\"site\":\"中证网\",\"commentNum\":\"0\",\"jo...</td>\n",
       "      <td>纳入MSCI指数 A股长期配置价值提升</td>\n",
       "      <td>http://www.cs.com.cn/gppd/201706/t20170623_533...</td>\n",
       "      <td>0</td>\n",
       "    </tr>\n",
       "  </tbody>\n",
       "</table>\n",
       "</div>"
      ],
      "text/plain": [
       "      id      author                    source  \\\n",
       "0  89617                快科技@http://www.kkj.cn/   \n",
       "1  89616                快科技@http://www.kkj.cn/   \n",
       "2  89615                快科技@http://www.kkj.cn/   \n",
       "3  89614                                   新华社   \n",
       "4  89613  胡淑丽_MN7479                     深圳大件事   \n",
       "5  89612          张怡                 中国证券报?中证网   \n",
       "6  89611              威锋网@http://www.feng.com/   \n",
       "7  89610      申玉彬 整理                 中国证券报?中证网   \n",
       "8  89609  李杭_BJS4645                 荆楚网-楚天都市报   \n",
       "9  89608          吴瞬                 中国证券报?中证网   \n",
       "\n",
       "                                             content  \\\n",
       "0  此外，自本周（6月12日）起，除小米手机6等15款机型外，其余机型已暂停更新发布（含开发版/...   \n",
       "1  骁龙835作为唯一通过Windows 10桌面平台认证的ARM处理器，高通强调，不会因为只考...   \n",
       "2  此前的一加3T搭载的是3400mAh电池，DashCharge快充规格为5V/4A。\\r\\n...   \n",
       "3    这是6月18日在葡萄牙中部大佩德罗冈地区拍摄的被森林大火烧毁的汽车。新华社记者张立云摄\\r\\n   \n",
       "4  （原标题：44岁女子跑深圳约会网友被拒，暴雨中裸身奔走……）\\r\\n@深圳交警微博称：昨日清...   \n",
       "5  　　受到A股被纳入MSCI指数的利好消息刺激，A股市场从周三开始再度上演龙马行情，周四上午金...   \n",
       "6  虽然至今夏普智能手机在市场上无法排得上号，已经完全没落，并于 2013 年退出中国市场，但是...   \n",
       "7  　　沙漠雄鹰：震荡有利消化套牢筹码\\r\\n　　周四开盘上证50在银行券商大蓝筹带动下一度涨近...   \n",
       "8  （原标题：武汉警方一下子抓了808人，还都是俊男靓女！原来他们每天偷偷摸摸干这事！）\\r\\n...   \n",
       "9  　　6月21日，A股纳入MSCI指数尘埃落定，但当天被寄予厚望的券商股并未扛起反弹大旗。22...   \n",
       "\n",
       "                                             feature  \\\n",
       "0  {\"type\":\"科技\",\"site\":\"cnbeta\",\"commentNum\":\"37\"...   \n",
       "1  {\"type\":\"科技\",\"site\":\"cnbeta\",\"commentNum\":\"15\"...   \n",
       "2  {\"type\":\"科技\",\"site\":\"cnbeta\",\"commentNum\":\"18\"...   \n",
       "3  {\"type\":\"国际新闻\",\"site\":\"环球\",\"commentNum\":\"0\",\"j...   \n",
       "4  {\"type\":\"新闻\",\"site\":\"网易热门\",\"commentNum\":\"978\",...   \n",
       "5  {\"type\":\"市场\",\"site\":\"中证网\",\"commentNum\":\"0\",\"jo...   \n",
       "6  {\"type\":\"科技\",\"site\":\"cnbeta\",\"commentNum\":\"21\"...   \n",
       "7  {\"type\":\"市场\",\"site\":\"中证网\",\"commentNum\":\"0\",\"jo...   \n",
       "8  {\"type\":\"新闻\",\"site\":\"网易热门\",\"commentNum\":\"1600\"...   \n",
       "9  {\"type\":\"市场\",\"site\":\"中证网\",\"commentNum\":\"0\",\"jo...   \n",
       "\n",
       "                           title  \\\n",
       "0           小米MIUI 9首批机型曝光：共计15款   \n",
       "1     骁龙835在Windows 10上的性能表现有望改善   \n",
       "2      一加手机5细节曝光：3300mAh、充半小时用1天   \n",
       "3  葡森林火灾造成至少62人死亡 政府宣布进入紧急状态（组图）   \n",
       "4       44岁女子约网友被拒暴雨中裸奔 交警为其披衣相随   \n",
       "5                 金融股一枝独秀 配置价值犹存   \n",
       "6            配骁龙660 全面屏鼻祖夏普新机酝酿中   \n",
       "7                博友早评：震荡有利消化套牢筹码   \n",
       "8       武汉千余警察出动 抓获808名俊男靓女全是诈骗犯   \n",
       "9            纳入MSCI指数 A股长期配置价值提升   \n",
       "\n",
       "                                                 url  y  \n",
       "0     http://www.cnbeta.com/articles/tech/623597.htm  0  \n",
       "1     http://www.cnbeta.com/articles/tech/623599.htm  0  \n",
       "2     http://www.cnbeta.com/articles/tech/623601.htm  0  \n",
       "3  http://world.huanqiu.com/hot/2017-06/10866126....  1  \n",
       "4  http://news.163.com/17/0618/00/CN617P3Q0001875...  0  \n",
       "5  http://www.cs.com.cn/gppd/201706/t20170623_533...  0  \n",
       "6     http://www.cnbeta.com/articles/tech/623603.htm  0  \n",
       "7  http://www.cs.com.cn/gppd/201706/t20170623_533...  0  \n",
       "8  http://news.163.com/17/0614/14/CMT9N8G80001899...  0  \n",
       "9  http://www.cs.com.cn/gppd/201706/t20170623_533...  0  "
      ]
     },
     "execution_count": 14,
     "metadata": {},
     "output_type": "execute_result"
    }
   ],
   "source": [
    "content.head(10)"
   ]
  },
  {
   "cell_type": "code",
   "execution_count": 15,
   "metadata": {},
   "outputs": [],
   "source": [
    "data = content[['content', 'y']]"
   ]
  },
  {
   "cell_type": "code",
   "execution_count": 16,
   "metadata": {},
   "outputs": [
    {
     "data": {
      "text/plain": [
       "78661"
      ]
     },
     "execution_count": 16,
     "metadata": {},
     "output_type": "execute_result"
    }
   ],
   "source": [
    "len(data[data['y'] == 1])"
   ]
  },
  {
   "cell_type": "code",
   "execution_count": 17,
   "metadata": {},
   "outputs": [],
   "source": [
    "max_df = len(xinhua_news) / len(content)"
   ]
  },
  {
   "cell_type": "code",
   "execution_count": 18,
   "metadata": {},
   "outputs": [
    {
     "data": {
      "text/plain": [
       "0.8778051801676133"
      ]
     },
     "execution_count": 18,
     "metadata": {},
     "output_type": "execute_result"
    }
   ],
   "source": [
    "max_df"
   ]
  },
  {
   "cell_type": "markdown",
   "metadata": {},
   "source": [
    "### Step3: 使用tfidf进行文本向量化"
   ]
  },
  {
   "cell_type": "markdown",
   "metadata": {},
   "source": [
    "参考 https://scikit-learn.org/stable/modules/generated/sklearn.feature_extraction.text.TfidfVectorizer.html 对"
   ]
  },
  {
   "cell_type": "markdown",
   "metadata": {},
   "source": [
    "对文本进行向量化"
   ]
  },
  {
   "cell_type": "code",
   "execution_count": 24,
   "metadata": {},
   "outputs": [],
   "source": [
    "from sklearn.feature_extraction.text import TfidfVectorizer\n",
    "import jieba\n",
    "import re"
   ]
  },
  {
   "cell_type": "code",
   "execution_count": 25,
   "metadata": {},
   "outputs": [],
   "source": [
    "def cut(string): return ' '.join(jieba.cut(string))"
   ]
  },
  {
   "cell_type": "code",
   "execution_count": 26,
   "metadata": {},
   "outputs": [],
   "source": [
    "def token(string):\n",
    "    return re.findall(r'[\\d|\\w]+', string)"
   ]
  },
  {
   "cell_type": "code",
   "execution_count": 27,
   "metadata": {},
   "outputs": [],
   "source": [
    "def preprocess_text(text):\n",
    "    return cut(' '.join(token(text)))"
   ]
  },
  {
   "cell_type": "code",
   "execution_count": 28,
   "metadata": {},
   "outputs": [],
   "source": [
    "# 处理新闻\n",
    "news_content = [preprocess_text(n) for n in data['content'].tolist()]"
   ]
  },
  {
   "cell_type": "code",
   "execution_count": 30,
   "metadata": {},
   "outputs": [],
   "source": [
    "def load_stop_words(path):\n",
    "    \"\"\"\n",
    "    加载停用词\n",
    "    \"\"\"\n",
    "    result = set()\n",
    "    with open(path, encoding='utf-8') as f:\n",
    "        for line in f:\n",
    "            result.add(line.strip())\n",
    "    return list(result)"
   ]
  },
  {
   "cell_type": "code",
   "execution_count": 31,
   "metadata": {},
   "outputs": [],
   "source": [
    "# 加载停用词\n",
    "stop_words = load_stop_words('chinese_stopwords.txt')"
   ]
  },
  {
   "cell_type": "code",
   "execution_count": 32,
   "metadata": {},
   "outputs": [
    {
     "data": {
      "text/plain": [
       "493"
      ]
     },
     "execution_count": 32,
     "metadata": {},
     "output_type": "execute_result"
    }
   ],
   "source": [
    "len(stop_words)"
   ]
  },
  {
   "cell_type": "code",
   "execution_count": 71,
   "metadata": {},
   "outputs": [],
   "source": [
    "tfidf_model = TfidfVectorizer(token_pattern='(?u)\\\\b\\\\w+\\\\b', analyzer='word', stop_words=stop_words)"
   ]
  },
  {
   "cell_type": "code",
   "execution_count": 72,
   "metadata": {},
   "outputs": [],
   "source": [
    "vectors = tfidf_model.fit_transform(news_content)"
   ]
  },
  {
   "cell_type": "code",
   "execution_count": 78,
   "metadata": {},
   "outputs": [
    {
     "data": {
      "text/plain": [
       "<89611x247859 sparse matrix of type '<class 'numpy.float64'>'\n",
       "\twith 8299194 stored elements in Compressed Sparse Row format>"
      ]
     },
     "execution_count": 78,
     "metadata": {},
     "output_type": "execute_result"
    }
   ],
   "source": [
    "vectors"
   ]
  },
  {
   "cell_type": "code",
   "execution_count": 74,
   "metadata": {},
   "outputs": [
    {
     "data": {
      "text/plain": [
       "(89611, 247859)"
      ]
     },
     "execution_count": 74,
     "metadata": {},
     "output_type": "execute_result"
    }
   ],
   "source": [
    "vectors.shape"
   ]
  },
  {
   "cell_type": "code",
   "execution_count": 48,
   "metadata": {},
   "outputs": [
    {
     "data": {
      "text/plain": [
       "array([0., 0., 0., ..., 0., 0., 0.])"
      ]
     },
     "execution_count": 48,
     "metadata": {},
     "output_type": "execute_result"
    }
   ],
   "source": [
    "vectors[1].toarray()[0]"
   ]
  },
  {
   "cell_type": "code",
   "execution_count": 49,
   "metadata": {},
   "outputs": [],
   "source": [
    "from scipy.spatial.distance import cosine"
   ]
  },
  {
   "cell_type": "code",
   "execution_count": 76,
   "metadata": {},
   "outputs": [
    {
     "data": {
      "text/plain": [
       "0.9876989133194972"
      ]
     },
     "execution_count": 76,
     "metadata": {},
     "output_type": "execute_result"
    }
   ],
   "source": [
    "cosine(vectors[1].toarray()[0], vectors[2].toarray()[0])"
   ]
  },
  {
   "cell_type": "markdown",
   "metadata": {},
   "source": [
    "### Step4: 参考scikit-learning的方法，构建你的第一个机器学习模型"
   ]
  },
  {
   "cell_type": "markdown",
   "metadata": {},
   "source": [
    "+ 按照课程讲解的内容，把数据集分割为 traning_data, validation_data, test_data. https://scikit-learn.org/stable/modules/generated/sklearn.model_selection.train_test_split.html"
   ]
  },
  {
   "cell_type": "code",
   "execution_count": 55,
   "metadata": {},
   "outputs": [],
   "source": [
    "from sklearn.model_selection import train_test_split"
   ]
  },
  {
   "cell_type": "code",
   "execution_count": 100,
   "metadata": {},
   "outputs": [],
   "source": [
    "X = vectors"
   ]
  },
  {
   "cell_type": "code",
   "execution_count": 101,
   "metadata": {},
   "outputs": [],
   "source": [
    "y = content['y'].tolist()"
   ]
  },
  {
   "cell_type": "code",
   "execution_count": 102,
   "metadata": {},
   "outputs": [],
   "source": [
    "# 先分70%为训练集\n",
    "X_train, X_rest, y_train, y_rest = train_test_split(X, y, test_size=0.3,stratify=y)"
   ]
  },
  {
   "cell_type": "code",
   "execution_count": 103,
   "metadata": {},
   "outputs": [],
   "source": [
    "# 将剩余的30%中70%为测试集，剩下的为验证集\n",
    "X_test, X_validation, y_test, y_validation = train_test_split(X_rest, y_rest, test_size=0.3,stratify=y_rest)"
   ]
  },
  {
   "cell_type": "code",
   "execution_count": 105,
   "metadata": {},
   "outputs": [
    {
     "data": {
      "text/plain": [
       "((62727, 247859), (26884, 247859), (8066, 247859), 62727, 26884, 8066)"
      ]
     },
     "execution_count": 105,
     "metadata": {},
     "output_type": "execute_result"
    }
   ],
   "source": [
    "X_train.shape, X_rest.shape, X_validation.shape, len(y_train), len(y_rest), len(y_validation)"
   ]
  },
  {
   "cell_type": "code",
   "execution_count": 106,
   "metadata": {},
   "outputs": [
    {
     "data": {
      "text/plain": [
       "(55062, 23599, 7080)"
      ]
     },
     "execution_count": 106,
     "metadata": {},
     "output_type": "execute_result"
    }
   ],
   "source": [
    "sum(y_train), sum(y_rest), sum(y_validation)"
   ]
  },
  {
   "cell_type": "markdown",
   "metadata": {},
   "source": [
    "+ 参照scikit learning的示例，从构建你的第一个KNN机器学习模型。"
   ]
  },
  {
   "cell_type": "code",
   "execution_count": 90,
   "metadata": {},
   "outputs": [],
   "source": [
    "from sklearn.neighbors import KNeighborsClassifier"
   ]
  },
  {
   "cell_type": "code",
   "execution_count": 107,
   "metadata": {},
   "outputs": [
    {
     "data": {
      "text/plain": [
       "KNeighborsClassifier(algorithm='auto', leaf_size=30, metric='minkowski',\n",
       "           metric_params=None, n_jobs=None, n_neighbors=5, p=2,\n",
       "           weights='uniform')"
      ]
     },
     "execution_count": 107,
     "metadata": {},
     "output_type": "execute_result"
    }
   ],
   "source": [
    "neigh = KNeighborsClassifier(n_neighbors=5)\n",
    "neigh.fit(X_train, y_train) "
   ]
  },
  {
   "cell_type": "code",
   "execution_count": 121,
   "metadata": {},
   "outputs": [
    {
     "data": {
      "text/plain": [
       "(1, 1)"
      ]
     },
     "execution_count": 121,
     "metadata": {},
     "output_type": "execute_result"
    }
   ],
   "source": [
    "neigh.predict(X_test[0])[0], y_test[0]"
   ]
  },
  {
   "cell_type": "markdown",
   "metadata": {},
   "source": [
    "### Step5: 在traning_data, validation_data, test_data 上观察其相关metric: recall, precision, f1等， 并解释其含义. "
   ]
  },
  {
   "cell_type": "code",
   "execution_count": 122,
   "metadata": {},
   "outputs": [],
   "source": [
    "def predict(X):\n",
    "    return neigh.predict(X)"
   ]
  },
  {
   "cell_type": "code",
   "execution_count": 125,
   "metadata": {},
   "outputs": [],
   "source": [
    "y_train_pred = predict(X_train).tolist()"
   ]
  },
  {
   "cell_type": "code",
   "execution_count": 126,
   "metadata": {},
   "outputs": [],
   "source": [
    "y_test_pred = predict(X_test).tolist()"
   ]
  },
  {
   "cell_type": "code",
   "execution_count": 127,
   "metadata": {},
   "outputs": [],
   "source": [
    "y_validation_pred = predict(X_validation).tolist()"
   ]
  },
  {
   "cell_type": "code",
   "execution_count": 136,
   "metadata": {},
   "outputs": [
    {
     "name": "stdout",
     "output_type": "stream",
     "text": [
      "accuracy traning_data: 0.7825976054968355\n",
      "accuracy test_data: 0.7159102986502285\n",
      "accuracy validation_data: 0.7189437143565583\n"
     ]
    }
   ],
   "source": [
    "# 准确率\n",
    "from sklearn.metrics import accuracy_score\n",
    "print('accuracy traning_data:', accuracy_score(y_train, y_train_pred))\n",
    "print('accuracy test_data:', accuracy_score(y_test, y_test_pred))\n",
    "print('accuracy validation_data:', accuracy_score(y_validation, y_validation_pred))"
   ]
  },
  {
   "cell_type": "code",
   "execution_count": 137,
   "metadata": {},
   "outputs": [
    {
     "name": "stdout",
     "output_type": "stream",
     "text": [
      "log loss traning_data: 7.508814297617824\n",
      "log loss test_data: 9.812112455642714\n",
      "log loss validation_data: 9.707341790332434\n"
     ]
    }
   ],
   "source": [
    "# 对数损失\n",
    "from sklearn.metrics import log_loss\n",
    "print('log loss traning_data:', log_loss(y_train, y_train_pred))\n",
    "print('log loss test_data:', log_loss(y_test, y_test_pred))\n",
    "print('log loss validation_data:', log_loss(y_validation, y_validation_pred))"
   ]
  },
  {
   "cell_type": "code",
   "execution_count": 141,
   "metadata": {},
   "outputs": [
    {
     "name": "stdout",
     "output_type": "stream",
     "text": [
      "confusion matrix traning_data: [ 7539   126 13511 41551]\n",
      "confusion matrix test_data: [ 2257    42  5304 11215]\n",
      "confusion matrix validation_data: [ 970   16 2251 4829]\n"
     ]
    }
   ],
   "source": [
    "# 混淆矩阵\n",
    "from sklearn.metrics import confusion_matrix\n",
    "print('confusion matrix traning_data:', confusion_matrix(y_train, y_train_pred).ravel())\n",
    "print('confusion matrix test_data:', confusion_matrix(y_test, y_test_pred).ravel())\n",
    "print('confusion matrix validation_data:', confusion_matrix(y_validation, y_validation_pred).ravel())"
   ]
  },
  {
   "cell_type": "code",
   "execution_count": 143,
   "metadata": {},
   "outputs": [
    {
     "name": "stdout",
     "output_type": "stream",
     "text": [
      "classification report traning_data:\n",
      "               precision    recall  f1-score   support\n",
      "\n",
      "           0       0.36      0.98      0.53      7665\n",
      "           1       1.00      0.75      0.86     55062\n",
      "\n",
      "   micro avg       0.78      0.78      0.78     62727\n",
      "   macro avg       0.68      0.87      0.69     62727\n",
      "weighted avg       0.92      0.78      0.82     62727\n",
      "\n",
      "classification report test_data:\n",
      "               precision    recall  f1-score   support\n",
      "\n",
      "           0       0.30      0.98      0.46      2299\n",
      "           1       1.00      0.68      0.81     16519\n",
      "\n",
      "   micro avg       0.72      0.72      0.72     18818\n",
      "   macro avg       0.65      0.83      0.63     18818\n",
      "weighted avg       0.91      0.72      0.76     18818\n",
      "\n",
      "classification report validation_data:\n",
      "               precision    recall  f1-score   support\n",
      "\n",
      "           0       0.30      0.98      0.46       986\n",
      "           1       1.00      0.68      0.81      7080\n",
      "\n",
      "   micro avg       0.72      0.72      0.72      8066\n",
      "   macro avg       0.65      0.83      0.64      8066\n",
      "weighted avg       0.91      0.72      0.77      8066\n",
      "\n"
     ]
    }
   ],
   "source": [
    "from sklearn.metrics import classification_report\n",
    "print('classification report traning_data:\\n', classification_report(y_train, y_train_pred))\n",
    "print('classification report test_data:\\n', classification_report(y_test, y_test_pred))\n",
    "print('classification report validation_data:\\n', classification_report(y_validation, y_validation_pred))"
   ]
  },
  {
   "cell_type": "code",
   "execution_count": 144,
   "metadata": {},
   "outputs": [
    {
     "data": {
      "text/plain": [
       "Text(0.5, 1.0, 'Receiver Operating Characteristic, ROC(AUC = 0.83)')"
      ]
     },
     "execution_count": 144,
     "metadata": {},
     "output_type": "execute_result"
    },
    {
     "data": {
      "image/png": "[encoded data removed]",
      "text/plain": [
       "<Figure size 432x288 with 1 Axes>"
      ]
     },
     "metadata": {
      "needs_background": "light"
     },
     "output_type": "display_data"
    }
   ],
   "source": [
    "%matplotlib inline\n",
    "import matplotlib.pyplot as plt \n",
    "from sklearn.metrics import roc_curve, auc\n",
    "fpr, tpr, thresholds = roc_curve(y_test, y_test_pred)\n",
    "roc_auc = auc(fpr, tpr)  \n",
    "plt.plot(fpr, tpr, lw=1, label='ROC(area = %0.2f)' % (roc_auc))\n",
    "plt.xlabel(\"FPR (False Positive Rate)\")\n",
    "plt.ylabel(\"TPR (True Positive Rate)\")\n",
    "plt.title(\"Receiver Operating Characteristic, ROC(AUC = %0.2f)\"% (roc_auc))"
   ]
  },
  {
   "cell_type": "code",
   "execution_count": 146,
   "metadata": {},
   "outputs": [
    {
     "name": "stdout",
     "output_type": "stream",
     "text": [
      "roc_auc_score traning_data: 0.8690918531189995\n",
      "roc_auc_score test_data: 0.8303231880217755\n",
      "roc_auc_score validation_data: 0.832917483182636\n"
     ]
    }
   ],
   "source": [
    "from sklearn.metrics import roc_auc_score\n",
    "print('roc_auc_score traning_data:', roc_auc_score(y_train, y_train_pred))\n",
    "print('roc_auc_score test_data:', roc_auc_score(y_test, y_test_pred))\n",
    "print('roc_auc_score validation_data:', roc_auc_score(y_validation, y_validation_pred))"
   ]
  },
  {
   "cell_type": "code",
   "execution_count": 147,
   "metadata": {},
   "outputs": [
    {
     "name": "stdout",
     "output_type": "stream",
     "text": [
      "mse traning_data: 0.2174023945031645\n",
      "mse test_data: 0.2840897013497715\n",
      "mse validation_data: 0.2810562856434416\n"
     ]
    }
   ],
   "source": [
    "# 均方差\n",
    "from sklearn.metrics import mean_squared_error\n",
    "print('mse traning_data:', mean_squared_error(y_train, y_train_pred))\n",
    "print('mse test_data:', mean_squared_error(y_test, y_test_pred))\n",
    "print('mse validation_data:', mean_squared_error(y_validation, y_validation_pred))"
   ]
  },
  {
   "cell_type": "markdown",
   "metadata": {},
   "source": [
    "### Step6: 使用 test_data 对其进行新数据的判断, 你有没"
   ]
  },
  {
   "cell_type": "code",
   "execution_count": 149,
   "metadata": {},
   "outputs": [
    {
     "data": {
      "text/plain": [
       "0.7159102986502285"
      ]
     },
     "execution_count": 149,
     "metadata": {},
     "output_type": "execute_result"
    }
   ],
   "source": [
    "accuracy_score(y_test, y_test_pred)"
   ]
  },
  {
   "cell_type": "markdown",
   "metadata": {},
   "source": [
    "### Step7: 调整不同的参数，观察变化"
   ]
  },
  {
   "cell_type": "code",
   "execution_count": 167,
   "metadata": {},
   "outputs": [
    {
     "name": "stdout",
     "output_type": "stream",
     "text": [
      "i=3,acc=0.774311829099798\n",
      "i=6,acc=0.6656924221490063\n",
      "i=9,acc=0.6219577000743969\n",
      "i=12,acc=0.55903921777022\n",
      "i=15,acc=0.5351259432458285\n",
      "i=18,acc=0.4964395791263684\n",
      "i=21,acc=0.48070995855032417\n",
      "i=24,acc=0.45684982463598683\n",
      "i=27,acc=0.4444149218833032\n"
     ]
    }
   ],
   "source": [
    "k = [i for i in range(3, 30, 3)]\n",
    "acc = []\n",
    "for i in k:\n",
    "    neigh = KNeighborsClassifier(n_neighbors=i)\n",
    "    neigh.fit(X_train, y_train) \n",
    "    neigh.predict(X_test)\n",
    "    a = accuracy_score(y_test, neigh.predict(X_test).tolist())\n",
    "    acc.append(a)\n",
    "    print('i={},acc={}'.format(i, a))"
   ]
  },
  {
   "cell_type": "code",
   "execution_count": 168,
   "metadata": {},
   "outputs": [
    {
     "data": {
      "text/plain": [
       "Text(0, 0.5, 'acc')"
      ]
     },
     "execution_count": 168,
     "metadata": {},
     "output_type": "execute_result"
    },
    {
     "data": {
      "image/png": "[encoded data removed]",
      "text/plain": [
       "<Figure size 432x288 with 1 Axes>"
      ]
     },
     "metadata": {
      "needs_background": "light"
     },
     "output_type": "display_data"
    }
   ],
   "source": [
    "plt.plot(k, acc)\n",
    "plt.xlabel(\"k\")\n",
    "plt.ylabel(\"acc\")"
   ]
  },
  {
   "cell_type": "markdown",
   "metadata": {},
   "source": [
    "### Step8: 不断改变参数，直到性能达到“某个”点。问：“某个”怎么定义？"
   ]
  },
  {
   "cell_type": "code",
   "execution_count": 63,
   "metadata": {},
   "outputs": [],
   "source": [
    "问题所在的场景中，使所关注的性能指标最佳的模型参数"
   ]
  },
  {
   "cell_type": "markdown",
   "metadata": {},
   "source": [
    "### Step9: 找出所以预测为 1， 但是实际为 0 的文章。 作为抄袭的候选者。"
   ]
  },
  {
   "cell_type": "code",
   "execution_count": 169,
   "metadata": {},
   "outputs": [
    {
     "data": {
      "text/plain": [
       "KNeighborsClassifier(algorithm='auto', leaf_size=30, metric='minkowski',\n",
       "           metric_params=None, n_jobs=None, n_neighbors=3, p=2,\n",
       "           weights='uniform')"
      ]
     },
     "execution_count": 169,
     "metadata": {},
     "output_type": "execute_result"
    }
   ],
   "source": [
    "knn = KNeighborsClassifier(n_neighbors=3)\n",
    "knn.fit(X_train, y_train)"
   ]
  },
  {
   "cell_type": "code",
   "execution_count": 175,
   "metadata": {},
   "outputs": [],
   "source": [
    "y_0_idx = [i for i in range(len(y)) if y[i]==0]"
   ]
  },
  {
   "cell_type": "code",
   "execution_count": 177,
   "metadata": {},
   "outputs": [
    {
     "data": {
      "text/plain": [
       "10950"
      ]
     },
     "execution_count": 177,
     "metadata": {},
     "output_type": "execute_result"
    }
   ],
   "source": [
    "len(y_0_idx)"
   ]
  },
  {
   "cell_type": "code",
   "execution_count": 190,
   "metadata": {},
   "outputs": [
    {
     "data": {
      "text/plain": [
       "<10950x247859 sparse matrix of type '<class 'numpy.float64'>'\n",
       "\twith 1713724 stored elements in Compressed Sparse Row format>"
      ]
     },
     "execution_count": 190,
     "metadata": {},
     "output_type": "execute_result"
    }
   ],
   "source": [
    "X[y_0_idx]"
   ]
  },
  {
   "cell_type": "code",
   "execution_count": 191,
   "metadata": {},
   "outputs": [],
   "source": [
    "pred = knn.predict(X[y_0_idx]).tolist()"
   ]
  },
  {
   "cell_type": "code",
   "execution_count": 192,
   "metadata": {},
   "outputs": [],
   "source": [
    "indices = []\n",
    "for i in range(len(y_0_idx)):\n",
    "    if pred[i] == 1:\n",
    "        indices.append(y_0_idx[i])"
   ]
  },
  {
   "cell_type": "code",
   "execution_count": 194,
   "metadata": {},
   "outputs": [
    {
     "data": {
      "text/plain": [
       "225"
      ]
     },
     "execution_count": 194,
     "metadata": {},
     "output_type": "execute_result"
    }
   ],
   "source": [
    "len(indices)"
   ]
  },
  {
   "cell_type": "code",
   "execution_count": 198,
   "metadata": {},
   "outputs": [
    {
     "data": {
      "text/html": [
       "<div>\n",
       "<style scoped>\n",
       "    .dataframe tbody tr th:only-of-type {\n",
       "        vertical-align: middle;\n",
       "    }\n",
       "\n",
       "    .dataframe tbody tr th {\n",
       "        vertical-align: top;\n",
       "    }\n",
       "\n",
       "    .dataframe thead th {\n",
       "        text-align: right;\n",
       "    }\n",
       "</style>\n",
       "<table border=\"1\" class=\"dataframe\">\n",
       "  <thead>\n",
       "    <tr style=\"text-align: right;\">\n",
       "      <th></th>\n",
       "      <th>id</th>\n",
       "      <th>author</th>\n",
       "      <th>source</th>\n",
       "      <th>content</th>\n",
       "      <th>feature</th>\n",
       "      <th>title</th>\n",
       "      <th>url</th>\n",
       "      <th>y</th>\n",
       "    </tr>\n",
       "  </thead>\n",
       "  <tbody>\n",
       "    <tr>\n",
       "      <th>31</th>\n",
       "      <td>89586</td>\n",
       "      <td></td>\n",
       "      <td>央广网</td>\n",
       "      <td>据中国之声《新闻纵横》报道，针对近日日本媒体披露政府或为首相安倍晋三的好友办学“开绿灯”一事...</td>\n",
       "      <td>{\"type\":\"国际新闻\",\"site\":\"环球\",\"commentNum\":\"0\",\"j...</td>\n",
       "      <td>安倍再陷办学丑闻 日内阁府与文科省调查大相径庭</td>\n",
       "      <td>http://world.huanqiu.com/hot/2017-06/10866219....</td>\n",
       "      <td>0</td>\n",
       "    </tr>\n",
       "    <tr>\n",
       "      <th>55</th>\n",
       "      <td>89562</td>\n",
       "      <td></td>\n",
       "      <td>央广网</td>\n",
       "      <td>央广网贵阳6月19日消息（记者王珩 贵州台记者熊瑛）贵州省招生考试院消息，贵州省2017年高...</td>\n",
       "      <td>{\"type\":\"国内新闻\",\"site\":\"环球\",\"commentNum\":\"0\",\"j...</td>\n",
       "      <td>贵州省今年高考计划招生36.3万人</td>\n",
       "      <td>http://china.huanqiu.com/hot/2017-06/10866408....</td>\n",
       "      <td>0</td>\n",
       "    </tr>\n",
       "    <tr>\n",
       "      <th>63</th>\n",
       "      <td>89554</td>\n",
       "      <td></td>\n",
       "      <td>人民日报</td>\n",
       "      <td>2017年上海国际电影电视节，包括6月12日至16日举办的第二十三届上海电视节和6月17日至...</td>\n",
       "      <td>{\"type\":\"国内新闻\",\"site\":\"环球\",\"commentNum\":\"0\",\"j...</td>\n",
       "      <td>聚焦上海国际电影节：“一带一路”，照耀光影世界</td>\n",
       "      <td>http://china.huanqiu.com/hot/2017-06/10866419....</td>\n",
       "      <td>0</td>\n",
       "    </tr>\n",
       "    <tr>\n",
       "      <th>78</th>\n",
       "      <td>89539</td>\n",
       "      <td></td>\n",
       "      <td>央广网</td>\n",
       "      <td>央广网合肥6月19日消息（记者王利）6月19日上午6时，由公安部消防局组织的中部地区跨区域地...</td>\n",
       "      <td>{\"type\":\"国内新闻\",\"site\":\"环球\",\"commentNum\":\"0\",\"j...</td>\n",
       "      <td>中部地区跨区域地震救援实战拉动演练全面启动</td>\n",
       "      <td>http://china.huanqiu.com/hot/2017-06/10866429....</td>\n",
       "      <td>0</td>\n",
       "    </tr>\n",
       "    <tr>\n",
       "      <th>98</th>\n",
       "      <td>89519</td>\n",
       "      <td></td>\n",
       "      <td>中国新闻网</td>\n",
       "      <td>中新社吉隆坡6月23日电 (赵胜玉 张淼)中国浙江吉利控股集团23日在吉隆坡与马来西亚DRB...</td>\n",
       "      <td>{\"type\":\"国际财经\",\"site\":\"参考消息\",\"commentNum\":\"0\",...</td>\n",
       "      <td>吉利控股集团与马来西亚DRB-HICOM集团签署最终协议</td>\n",
       "      <td>http://www.cankaoxiaoxi.com/finance/20170623/2...</td>\n",
       "      <td>0</td>\n",
       "    </tr>\n",
       "    <tr>\n",
       "      <th>115</th>\n",
       "      <td>89502</td>\n",
       "      <td></td>\n",
       "      <td>中国网财经</td>\n",
       "      <td>中国网财经6月23日讯 今日，中国保监会副主席黄洪在国务院政策例行吹风会上表示，我们国家在上...</td>\n",
       "      <td>{\"type\":\"中国财经\",\"site\":\"参考消息\",\"commentNum\":\"0\",...</td>\n",
       "      <td>黄洪:我国养老保障体系距离\"多层次、可持续\"还有一定差距</td>\n",
       "      <td>http://www.cankaoxiaoxi.com/finance/20170623/2...</td>\n",
       "      <td>0</td>\n",
       "    </tr>\n",
       "    <tr>\n",
       "      <th>124</th>\n",
       "      <td>89493</td>\n",
       "      <td></td>\n",
       "      <td>凤凰体育</td>\n",
       "      <td>佩工或离开华夏幸福\\r\\n北京时间6月16日，英国媒体《天空体育》消息称，水晶宫换帅盯上了中...</td>\n",
       "      <td>{\"type\":\"体育\",\"site\":\"凤凰\",\"commentNum\":\"0\",\"joi...</td>\n",
       "      <td>权威媒体曝英超球会洽谈佩工 智利工程师或离开华夏</td>\n",
       "      <td>http://sports.ifeng.com/a/20170616/51262773_0....</td>\n",
       "      <td>0</td>\n",
       "    </tr>\n",
       "    <tr>\n",
       "      <th>126</th>\n",
       "      <td>89491</td>\n",
       "      <td>荀建国_NN7379</td>\n",
       "      <td>环球时报-环球网</td>\n",
       "      <td>（原标题：伊朗和俄罗斯向卡塔尔提出援助 卡塔尔：暂时还不需要）\\r\\n【环球网综合报道】据俄...</td>\n",
       "      <td>{\"type\":\"新闻\",\"site\":\"网易热门\",\"commentNum\":\"1273\"...</td>\n",
       "      <td>伊朗俄罗斯向卡塔尔提出援助 卡塔尔:暂时不需要</td>\n",
       "      <td>http://news.163.com/17/0612/09/CMNKKI87000187V...</td>\n",
       "      <td>0</td>\n",
       "    </tr>\n",
       "    <tr>\n",
       "      <th>153</th>\n",
       "      <td>89464</td>\n",
       "      <td></td>\n",
       "      <td>中国经济周刊</td>\n",
       "      <td>文章导读： 实名制真能解决无人机“黑飞”问题？实名制后，无人机行业还需要如何规范？国际上...</td>\n",
       "      <td>{\"type\":\"科技\",\"site\":\"新浪\",\"commentNum\":\" 1\",\"jo...</td>\n",
       "      <td>无人机“黑飞”频发：实名制后如何破解监管难？</td>\n",
       "      <td>http://tech.sina.com.cn/it/2017-06-20/doc-ifyh...</td>\n",
       "      <td>0</td>\n",
       "    </tr>\n",
       "    <tr>\n",
       "      <th>164</th>\n",
       "      <td>89453</td>\n",
       "      <td></td>\n",
       "      <td>凤凰体育</td>\n",
       "      <td>马龙轻松夺冠\\r\\n凤凰体育讯北京时间6月18日，国际乒联日本公开赛男单决赛进行，马龙4-1...</td>\n",
       "      <td>{\"type\":\"体育\",\"site\":\"凤凰\",\"commentNum\":\"0\",\"joi...</td>\n",
       "      <td>马龙4比1击败樊振东 生涯首次获日乒赛冠军</td>\n",
       "      <td>http://sports.ifeng.com/a/20170618/51272858_0....</td>\n",
       "      <td>0</td>\n",
       "    </tr>\n",
       "    <tr>\n",
       "      <th>167</th>\n",
       "      <td>89450</td>\n",
       "      <td></td>\n",
       "      <td>经济参考报</td>\n",
       "      <td>“由于东航物流本身股本高达41亿，规定的单个员工持股上限1%，实际上金额有4100万之多...</td>\n",
       "      <td>{\"type\":\"公司\",\"site\":\"中证网\",\"commentNum\":\"0\",\"jo...</td>\n",
       "      <td>125名员工持股出资总金额近4亿 东航试水混改员工持股改革落地</td>\n",
       "      <td>http://www.cs.com.cn/ssgs/gsxw/201706/t2017062...</td>\n",
       "      <td>0</td>\n",
       "    </tr>\n",
       "    <tr>\n",
       "      <th>191</th>\n",
       "      <td>89426</td>\n",
       "      <td></td>\n",
       "      <td>中国新闻网@</td>\n",
       "      <td>同时，京东、美团、万达等作为线上主流支付入口，也有较多客户体验了银联二维码支付。银联钱包作为...</td>\n",
       "      <td>{\"type\":\"科技\",\"site\":\"cnbeta\",\"commentNum\":\"9\",...</td>\n",
       "      <td>银联二维码入局 支付市场能否三分天下</td>\n",
       "      <td>http://www.cnbeta.com/articles/tech/623693.htm</td>\n",
       "      <td>0</td>\n",
       "    </tr>\n",
       "    <tr>\n",
       "      <th>296</th>\n",
       "      <td>89321</td>\n",
       "      <td>赵亚萍_NN9005</td>\n",
       "      <td>中国新闻网</td>\n",
       "      <td>（原标题：各地物价水平如何？ 28省份5月份CPI涨幅扩大）\\r\\n中新网北京6月20日电 ...</td>\n",
       "      <td>{\"type\":\"社会\",\"site\":\"网易\",\"commentNum\":\"63\",\"jo...</td>\n",
       "      <td>各地物价水平如何？ 28省份5月份CPI涨幅扩大</td>\n",
       "      <td>http://news.163.com/17/0620/00/CNB70S1600018AO...</td>\n",
       "      <td>0</td>\n",
       "    </tr>\n",
       "    <tr>\n",
       "      <th>409</th>\n",
       "      <td>89208</td>\n",
       "      <td>柳聪_BJS3376</td>\n",
       "      <td>南方日报</td>\n",
       "      <td>（原标题：8旬中科院院士 要求捐赠遗体）\\r\\n南方日报讯 “没有遗体捐献就没有医学进步，没...</td>\n",
       "      <td>{\"type\":\"社会\",\"site\":\"网易\",\"commentNum\":\"0\",\"joi...</td>\n",
       "      <td>8旬院士要求捐赠遗体:没有捐献就没有医学进步</td>\n",
       "      <td>http://news.163.com/17/0620/06/CNBTA3ON00018AO...</td>\n",
       "      <td>0</td>\n",
       "    </tr>\n",
       "    <tr>\n",
       "      <th>525</th>\n",
       "      <td>89092</td>\n",
       "      <td></td>\n",
       "      <td>狂言之体育</td>\n",
       "      <td>平野美宇\\r\\n国际乒联日本公开赛刚刚结束，中国公开赛又要在成都打响，世界排名第七的日本00...</td>\n",
       "      <td>{\"type\":\"体育\",\"site\":\"凤凰\",\"commentNum\":\"0\",\"joi...</td>\n",
       "      <td>平野豪言要在中国击败丁宁 接连被虐仍称东京必夺冠</td>\n",
       "      <td>http://sports.ifeng.com/a/20170620/51281761_0....</td>\n",
       "      <td>0</td>\n",
       "    </tr>\n",
       "    <tr>\n",
       "      <th>547</th>\n",
       "      <td>89070</td>\n",
       "      <td>刘瑞莹</td>\n",
       "      <td>人民网</td>\n",
       "      <td>中国正迎来大众旅游时代。今年初，国家旅游局提出全域旅游发展模式，助推旅游产业迅速发展，撬...</td>\n",
       "      <td>{\"type\":\"旅游\",\"site\":\"环球\",\"commentNum\":\"0\",\"joi...</td>\n",
       "      <td>全域旅游撬动经济转型升级 领跑中国宏观经济</td>\n",
       "      <td>http://go.huanqiu.com/news/2016-10/9544851.html</td>\n",
       "      <td>0</td>\n",
       "    </tr>\n",
       "    <tr>\n",
       "      <th>582</th>\n",
       "      <td>89035</td>\n",
       "      <td></td>\n",
       "      <td>中国经济网</td>\n",
       "      <td>地处长三角经济圈与环渤海经济圈结合点，位于鲁南临港产业带、海洋产业联动发展示范基地、东陇海国...</td>\n",
       "      <td>{\"type\":\"时事要闻\",\"site\":\"参考消息\",\"commentNum\":\"0\",...</td>\n",
       "      <td>临沂经济开发区：品牌建设成为经济社会发展新动能</td>\n",
       "      <td>http://www.cankaoxiaoxi.com/china/20170623/214...</td>\n",
       "      <td>0</td>\n",
       "    </tr>\n",
       "    <tr>\n",
       "      <th>592</th>\n",
       "      <td>89025</td>\n",
       "      <td>荀建国_NN7379</td>\n",
       "      <td>半月谈网</td>\n",
       "      <td>（原标题：中小学招生密考暗流涌动：培训机构作掩护，多考奥数）\\r\\n中小学招生季来临，近期多...</td>\n",
       "      <td>{\"type\":\"社会\",\"site\":\"网易\",\"commentNum\":\"80\",\"jo...</td>\n",
       "      <td>中小学招生密考暗流涌动：培训机构掩护 多考奥数</td>\n",
       "      <td>http://news.163.com/17/0620/10/CNC8B4IN000187V...</td>\n",
       "      <td>0</td>\n",
       "    </tr>\n",
       "    <tr>\n",
       "      <th>609</th>\n",
       "      <td>89008</td>\n",
       "      <td>徐嘉雯</td>\n",
       "      <td>跑否金融 微信公众号</td>\n",
       "      <td>柏文喜：\\r\\n　　亚太商旅联盟副主席;布兰顿文旅高级顾问，众和昆仑(北京)资产管理有限...</td>\n",
       "      <td>{\"type\":\"旅游\",\"site\":\"环球\",\"commentNum\":\"0\",\"joi...</td>\n",
       "      <td>全域旅游PPP项目全生命周期投融资解析分享</td>\n",
       "      <td>http://go.huanqiu.com/news/2016-11/9685269.html</td>\n",
       "      <td>0</td>\n",
       "    </tr>\n",
       "    <tr>\n",
       "      <th>615</th>\n",
       "      <td>89002</td>\n",
       "      <td></td>\n",
       "      <td>中国新闻网</td>\n",
       "      <td>中新网6月23日电 据人社部网站消息，目前全国跨省异地就医住院医疗费用直接结算联网接入工作顺...</td>\n",
       "      <td>{\"type\":\"社会观察\",\"site\":\"参考消息\",\"commentNum\":\"0\",...</td>\n",
       "      <td>人社部：1870家医疗机构可跨省异地就医住院直接结算</td>\n",
       "      <td>http://www.cankaoxiaoxi.com/china/20170623/214...</td>\n",
       "      <td>0</td>\n",
       "    </tr>\n",
       "    <tr>\n",
       "      <th>662</th>\n",
       "      <td>88955</td>\n",
       "      <td>王点</td>\n",
       "      <td>人民网-人民日报</td>\n",
       "      <td>本报北京4月16日电 (记者潘跃)北京师范大学中国公益研究院等日前在京发布《中国厕所革命...</td>\n",
       "      <td>{\"type\":\"旅游\",\"site\":\"环球\",\"commentNum\":\"0\",\"joi...</td>\n",
       "      <td>全国新建和改扩建旅游厕所5万座</td>\n",
       "      <td>http://go.huanqiu.com/news/2017-04/10493750.html</td>\n",
       "      <td>0</td>\n",
       "    </tr>\n",
       "    <tr>\n",
       "      <th>689</th>\n",
       "      <td>88928</td>\n",
       "      <td>王点</td>\n",
       "      <td>人民网-人民日报海外版</td>\n",
       "      <td>为期9天的珠穆朗玛峰北坡“清洁行动”5月6日启动，清洁范围将在北坡大本营海拔5200米至...</td>\n",
       "      <td>{\"type\":\"旅游\",\"site\":\"环球\",\"commentNum\":\"0\",\"joi...</td>\n",
       "      <td>珠峰北坡启动“清洁行动”</td>\n",
       "      <td>http://go.huanqiu.com/news/2017-05/10644578.html</td>\n",
       "      <td>0</td>\n",
       "    </tr>\n",
       "    <tr>\n",
       "      <th>721</th>\n",
       "      <td>88896</td>\n",
       "      <td>李芳</td>\n",
       "      <td>中新网</td>\n",
       "      <td>在为民众提供便利的同时，约30余万辆共享单车带来的乱停乱放等问题，也让西安陷入“围城”之...</td>\n",
       "      <td>{\"type\":\"汽车\",\"site\":\"环球\",\"commentNum\":\"0\",\"joi...</td>\n",
       "      <td>西安遭共享单车围城：专家称应多方协同治理</td>\n",
       "      <td>http://auto.huanqiu.com/news/2017-06/10865495....</td>\n",
       "      <td>0</td>\n",
       "    </tr>\n",
       "    <tr>\n",
       "      <th>730</th>\n",
       "      <td>88887</td>\n",
       "      <td></td>\n",
       "      <td>中国新闻网</td>\n",
       "      <td>中新社香港6月20日电 题：林郑月娥：香港的经济发展与国家命运分不开\\r\\n　　中新社记...</td>\n",
       "      <td>{\"type\":\"新闻\",\"site\":\"新浪热门\",\"commentNum\":\" 6\",\"...</td>\n",
       "      <td>林郑月娥：香港的经济发展与国家命运分不开</td>\n",
       "      <td>http://news.sina.com.cn/o/2017-06-20/doc-ifyhf...</td>\n",
       "      <td>0</td>\n",
       "    </tr>\n",
       "    <tr>\n",
       "      <th>743</th>\n",
       "      <td>88874</td>\n",
       "      <td>柳聪_BJS3376</td>\n",
       "      <td>郑州日报</td>\n",
       "      <td>（原标题：西成高铁9月底开通 郑州成都5小时可达）\\r\\n本报讯 记者昨日从铁路部门获悉，备...</td>\n",
       "      <td>{\"type\":\"社会\",\"site\":\"网易\",\"commentNum\":\"21\",\"jo...</td>\n",
       "      <td>西成高铁9月底开通 郑州成都5小时可达</td>\n",
       "      <td>http://news.163.com/17/0620/13/CNCISG0E00018AO...</td>\n",
       "      <td>0</td>\n",
       "    </tr>\n",
       "    <tr>\n",
       "      <th>766</th>\n",
       "      <td>88851</td>\n",
       "      <td>周 琳</td>\n",
       "      <td>中国经济网</td>\n",
       "      <td>沪深交易所日前发布《证券投资基金上市规则（2017年征求意见稿）》（简称“征求意见稿”）...</td>\n",
       "      <td>{\"type\":\"基金\",\"site\":\"中证网\",\"commentNum\":\"0\",\"jo...</td>\n",
       "      <td>迷你分级基金加速“去库存”</td>\n",
       "      <td>http://www.cs.com.cn/tzjj/201706/t20170622_533...</td>\n",
       "      <td>0</td>\n",
       "    </tr>\n",
       "    <tr>\n",
       "      <th>780</th>\n",
       "      <td>88837</td>\n",
       "      <td></td>\n",
       "      <td>证券时报</td>\n",
       "      <td>基金公司为了成功留住委外资金也是各出奇招，有基金公司在与银行的沟通中开始实行“先续期后支...</td>\n",
       "      <td>{\"type\":\"基金\",\"site\":\"中证网\",\"commentNum\":\"0\",\"jo...</td>\n",
       "      <td>基金公司挽留委外资金出新招：先续期后支付收益</td>\n",
       "      <td>http://www.cs.com.cn/tzjj/201706/t20170622_533...</td>\n",
       "      <td>0</td>\n",
       "    </tr>\n",
       "    <tr>\n",
       "      <th>786</th>\n",
       "      <td>88831</td>\n",
       "      <td></td>\n",
       "      <td>参考消息网</td>\n",
       "      <td>参考消息网6月11日报道 外媒称，一位白宫官员向美国之音证实，美国总统特朗普、国务卿和国防部...</td>\n",
       "      <td>{\"type\":\"亚太新闻\",\"site\":\"参考消息\",\"commentNum\":\"0\",...</td>\n",
       "      <td>特朗普紧盯“萨德”部署问题 韩媒称白宫正对韩施压</td>\n",
       "      <td>http://www.cankaoxiaoxi.com/world/20170611/210...</td>\n",
       "      <td>0</td>\n",
       "    </tr>\n",
       "    <tr>\n",
       "      <th>790</th>\n",
       "      <td>88827</td>\n",
       "      <td></td>\n",
       "      <td>中国新闻网</td>\n",
       "      <td>原标题：各地物价水平如何？ 28省份5月份CPI涨幅扩大\\r\\n　　中新网北京6月20日...</td>\n",
       "      <td>{\"type\":\"新闻\",\"site\":\"新浪热门\",\"commentNum\":\" 9\",\"...</td>\n",
       "      <td>各地物价水平如何？ 28省份5月份CPI涨幅扩大</td>\n",
       "      <td>http://news.sina.com.cn/o/2017-06-20/doc-ifyhf...</td>\n",
       "      <td>0</td>\n",
       "    </tr>\n",
       "    <tr>\n",
       "      <th>823</th>\n",
       "      <td>88794</td>\n",
       "      <td>陈博</td>\n",
       "      <td>中国经济网</td>\n",
       "      <td>中国经济网鲁塞尔6月20日讯（记者陈博） 欧盟28国外长本周一在卢森堡举行了部长级会议，...</td>\n",
       "      <td>{\"type\":\"海外\",\"site\":\"中证网\",\"commentNum\":\"0\",\"jo...</td>\n",
       "      <td>欧盟拒绝与美重启气变谈判</td>\n",
       "      <td>http://www.cs.com.cn/xwzx/hwxx/201706/t2017062...</td>\n",
       "      <td>0</td>\n",
       "    </tr>\n",
       "    <tr>\n",
       "      <th>...</th>\n",
       "      <td>...</td>\n",
       "      <td>...</td>\n",
       "      <td>...</td>\n",
       "      <td>...</td>\n",
       "      <td>...</td>\n",
       "      <td>...</td>\n",
       "      <td>...</td>\n",
       "      <td>...</td>\n",
       "    </tr>\n",
       "    <tr>\n",
       "      <th>7288</th>\n",
       "      <td>82329</td>\n",
       "      <td></td>\n",
       "      <td>南方日报第01版</td>\n",
       "      <td>即将进入7月，对于城市学生而言，美好的暑假又如期而至了，而对于另一群人——留守儿童而言，迎接...</td>\n",
       "      <td>{\"type\":\"封面\",\"site\":\"南方日报\",\"commentNum\":\"0\",\"j...</td>\n",
       "      <td>暑假来临，如何为留守儿童拉起“安全网”？</td>\n",
       "      <td>http://epaper.southcn.com/nfdaily/html/2017-06...</td>\n",
       "      <td>0</td>\n",
       "    </tr>\n",
       "    <tr>\n",
       "      <th>7334</th>\n",
       "      <td>82283</td>\n",
       "      <td></td>\n",
       "      <td>海南日报第010版</td>\n",
       "      <td>东方市纪委近日通报了两起扶贫领域违纪问题典型案例，对弄虚作假、优亲厚友、不正确履职的两名...</td>\n",
       "      <td>{\"type\":\"海南新闻综合\",\"site\":\"海南日报\",\"commentNum\":\"0...</td>\n",
       "      <td>构建多重体系筑牢扶贫防腐墙</td>\n",
       "      <td>http://hnrb.hinews.cn/html/2017-06/22/content_...</td>\n",
       "      <td>0</td>\n",
       "    </tr>\n",
       "    <tr>\n",
       "      <th>7351</th>\n",
       "      <td>82266</td>\n",
       "      <td></td>\n",
       "      <td>南方日报第01版</td>\n",
       "      <td>夜幕降临，“苏式”建筑风格的中苏友好大厦雄伟的展厅内，一场新车发布会即将开场；沿江路边，位于...</td>\n",
       "      <td>{\"type\":\"封面\",\"site\":\"南方日报\",\"commentNum\":\"0\",\"j...</td>\n",
       "      <td>穿越风云一甲子 见证激荡六十年</td>\n",
       "      <td>http://epaper.southcn.com/nfdaily/html/2017-06...</td>\n",
       "      <td>0</td>\n",
       "    </tr>\n",
       "    <tr>\n",
       "      <th>7367</th>\n",
       "      <td>82250</td>\n",
       "      <td></td>\n",
       "      <td>长江日报第9版</td>\n",
       "      <td>????21日晚，观察团外籍成员在知音码头观看表演记者刘斌?摄\\r\\n????本报讯（记者王...</td>\n",
       "      <td>{\"type\":\"民生新闻\",\"site\":\"长江日报\",\"commentNum\":\"0\",...</td>\n",
       "      <td>望把武汉故事 带向全国</td>\n",
       "      <td>http://cjrb.cjn.cn/html/2017-06/22/content_562...</td>\n",
       "      <td>0</td>\n",
       "    </tr>\n",
       "    <tr>\n",
       "      <th>7389</th>\n",
       "      <td>82228</td>\n",
       "      <td></td>\n",
       "      <td>野马财经</td>\n",
       "      <td>北京2017年6月14日电 /美通社/ --6月16日，野马财经将在北京盘古七星酒店举办20...</td>\n",
       "      <td>{\"type\":\"科技\",\"site\":\"环球\",\"commentNum\":\"0\",\"joi...</td>\n",
       "      <td>寻找金融新势能 -- 野马财经将举办2017夏季峰会</td>\n",
       "      <td>http://tech.huanqiu.com/news/2017-06/10840290....</td>\n",
       "      <td>0</td>\n",
       "    </tr>\n",
       "    <tr>\n",
       "      <th>7398</th>\n",
       "      <td>82219</td>\n",
       "      <td></td>\n",
       "      <td>长江日报第7版</td>\n",
       "      <td>????本报讯（记者梅丹?通讯员范信华?王敏）6月14日是全国第十个“信用记录关爱日”，为加...</td>\n",
       "      <td>{\"type\":\"民有所呼 我有所应\",\"site\":\"长江日报\",\"commentNum\"...</td>\n",
       "      <td>农行湖北分行营业部 开展“信用记录关爱日”宣传活动</td>\n",
       "      <td>http://cjrb.cjn.cn/html/2017-06/22/content_562...</td>\n",
       "      <td>0</td>\n",
       "    </tr>\n",
       "    <tr>\n",
       "      <th>7525</th>\n",
       "      <td>82092</td>\n",
       "      <td></td>\n",
       "      <td>央广网</td>\n",
       "      <td>央广网昆明6月22日消息（记者李健飞）据中国之声《新闻晚高峰》报道，今天下午，云南省举行旅游...</td>\n",
       "      <td>{\"type\":\"时事要闻\",\"site\":\"参考消息\",\"commentNum\":\"0\",...</td>\n",
       "      <td>云南举行旅游市场秩序整治工作新闻发布会 通报公众关注热点</td>\n",
       "      <td>http://www.cankaoxiaoxi.com/china/20170622/214...</td>\n",
       "      <td>0</td>\n",
       "    </tr>\n",
       "    <tr>\n",
       "      <th>7549</th>\n",
       "      <td>82068</td>\n",
       "      <td></td>\n",
       "      <td>长江日报第2版</td>\n",
       "      <td>????本报讯（记者张隽玮?通讯员沈佳）21日省物价局举行全面清理规范涉企收费新闻通气会，宣...</td>\n",
       "      <td>{\"type\":\"要闻\",\"site\":\"长江日报\",\"commentNum\":\"0\",\"j...</td>\n",
       "      <td>我省集中清理涉企收费 企业可拒缴收费清单之外项目</td>\n",
       "      <td>http://cjrb.cjn.cn/html/2017-06/22/content_562...</td>\n",
       "      <td>0</td>\n",
       "    </tr>\n",
       "    <tr>\n",
       "      <th>7659</th>\n",
       "      <td>81958</td>\n",
       "      <td></td>\n",
       "      <td>湖北日报第4版</td>\n",
       "      <td>天舟一号进入独立运行阶段 将择机释放立方星 ????湖北日报讯?据新华社电?21日9时47分...</td>\n",
       "      <td>{\"type\":\"时事\",\"site\":\"湖北日报\",\"commentNum\":\"0\",\"j...</td>\n",
       "      <td>天舟一号进入独立运行阶段</td>\n",
       "      <td>http://hbrb.cnhubei.com/html/hbrb/20170622/hbr...</td>\n",
       "      <td>0</td>\n",
       "    </tr>\n",
       "    <tr>\n",
       "      <th>7711</th>\n",
       "      <td>81906</td>\n",
       "      <td></td>\n",
       "      <td>郑州日报第03版</td>\n",
       "      <td>6月21日，贵州省铜仁市松桃苗族自治县的瑜伽爱好者在练习瑜伽。当日是国际瑜伽日，当地瑜伽爱好...</td>\n",
       "      <td>{\"type\":\"要闻国内\",\"site\":\"郑州日报\",\"commentNum\":\"0\",...</td>\n",
       "      <td>健身迎接瑜伽日 青山绿水身姿美</td>\n",
       "      <td>http://zzrb.zynews.cn/html/2017-06/22/content_...</td>\n",
       "      <td>0</td>\n",
       "    </tr>\n",
       "    <tr>\n",
       "      <th>7732</th>\n",
       "      <td>81885</td>\n",
       "      <td></td>\n",
       "      <td>河南日报第03版</td>\n",
       "      <td>????6月20日，游客在鹤壁市淇滨区的桑园小镇游览。去年以来，该区依托淇河沿岸传统民居和秀...</td>\n",
       "      <td>{\"type\":\"要闻\",\"site\":\"河南日报\",\"commentNum\":\"0\",\"j...</td>\n",
       "      <td>乡村旅游助推精准脱贫</td>\n",
       "      <td>http://newpaper.dahe.cn/hnrb/html/2017-06/22/c...</td>\n",
       "      <td>0</td>\n",
       "    </tr>\n",
       "    <tr>\n",
       "      <th>7740</th>\n",
       "      <td>81877</td>\n",
       "      <td></td>\n",
       "      <td>湖北日报第2版</td>\n",
       "      <td>轻装上阵，国企改革加速跑 ????湖北日报讯?记者廖志慧通讯员陈颖 　　编者按 ????当前...</td>\n",
       "      <td>{\"type\":\"要闻\",\"site\":\"湖北日报\",\"commentNum\":\"0\",\"j...</td>\n",
       "      <td>轻装上阵，国企改革加速跑</td>\n",
       "      <td>http://hbrb.cnhubei.com/html/hbrb/20170622/hbr...</td>\n",
       "      <td>0</td>\n",
       "    </tr>\n",
       "    <tr>\n",
       "      <th>7741</th>\n",
       "      <td>81876</td>\n",
       "      <td>周扬</td>\n",
       "      <td>新华网</td>\n",
       "      <td>韩国军方官员13日说，对上周在朝鲜半岛非军事区附近发现的无人机残骸进行分析后发现，无人机...</td>\n",
       "      <td>{\"type\":\"军事\",\"site\":\"环球\",\"commentNum\":\"2\",\"joi...</td>\n",
       "      <td>韩军方：神秘无人机拍摄韩国萨德部署地后坠毁</td>\n",
       "      <td>http://mil.huanqiu.com/world/2017-06/10837248....</td>\n",
       "      <td>0</td>\n",
       "    </tr>\n",
       "    <tr>\n",
       "      <th>7746</th>\n",
       "      <td>81871</td>\n",
       "      <td></td>\n",
       "      <td>湖北日报第2版</td>\n",
       "      <td>我省启动新一轮涉企收费清查行动 涉企经营服务性收费将大幅削减 ????湖北日报讯?（记者刘天...</td>\n",
       "      <td>{\"type\":\"要闻\",\"site\":\"湖北日报\",\"commentNum\":\"0\",\"j...</td>\n",
       "      <td>涉企经营服务性收费将大幅削减</td>\n",
       "      <td>http://hbrb.cnhubei.com/html/hbrb/20170622/hbr...</td>\n",
       "      <td>0</td>\n",
       "    </tr>\n",
       "    <tr>\n",
       "      <th>7811</th>\n",
       "      <td>81806</td>\n",
       "      <td></td>\n",
       "      <td>湖北日报第1版</td>\n",
       "      <td>剥离办社会职能，集中资源做强主业―― 轻装上阵，国企改革加速跑 ????湖北日报讯?记者廖志...</td>\n",
       "      <td>{\"type\":\"要闻\",\"site\":\"湖北日报\",\"commentNum\":\"0\",\"j...</td>\n",
       "      <td>轻装上阵，国企改革加速跑</td>\n",
       "      <td>http://hbrb.cnhubei.com/html/hbrb/20170622/hbr...</td>\n",
       "      <td>0</td>\n",
       "    </tr>\n",
       "    <tr>\n",
       "      <th>7920</th>\n",
       "      <td>81697</td>\n",
       "      <td></td>\n",
       "      <td>郑州日报第03版</td>\n",
       "      <td>新华社北京6月19日电（记者 熊丰）记者从公安部消防局获悉，19日6时，由公安部消防局组织的...</td>\n",
       "      <td>{\"type\":\"要闻国内\",\"site\":\"郑州日报\",\"commentNum\":\"0\",...</td>\n",
       "      <td>9省市联动开展跨区域 地震救援实战拉动演练</td>\n",
       "      <td>http://zzrb.zynews.cn/html/2017-06/20/content_...</td>\n",
       "      <td>0</td>\n",
       "    </tr>\n",
       "    <tr>\n",
       "      <th>7944</th>\n",
       "      <td>81673</td>\n",
       "      <td></td>\n",
       "      <td>南方日报第01版</td>\n",
       "      <td>上市公司现金分红是回报投资者的基本方式，是股份公司制度的应有之义，也是股票内在价值的体现。近...</td>\n",
       "      <td>{\"type\":\"封面\",\"site\":\"南方日报\",\"commentNum\":\"0\",\"j...</td>\n",
       "      <td>14.83亿元！ 上市莞企分红啦</td>\n",
       "      <td>http://epaper.southcn.com/nfdaily/html/2017-06...</td>\n",
       "      <td>0</td>\n",
       "    </tr>\n",
       "    <tr>\n",
       "      <th>7967</th>\n",
       "      <td>81650</td>\n",
       "      <td></td>\n",
       "      <td>郑州日报第02版</td>\n",
       "      <td>郑报融媒记者 袁 帅 石 闯\\r\\n无线电，来无影去无踪，在很多人看来，既熟悉又神秘。在影视...</td>\n",
       "      <td>{\"type\":\"要闻综合\",\"site\":\"郑州日报\",\"commentNum\":\"0\",...</td>\n",
       "      <td>“电波卫士”的奉献之歌</td>\n",
       "      <td>http://zzrb.zynews.cn/html/2017-06/20/content_...</td>\n",
       "      <td>0</td>\n",
       "    </tr>\n",
       "    <tr>\n",
       "      <th>8053</th>\n",
       "      <td>81564</td>\n",
       "      <td></td>\n",
       "      <td>外交部网站</td>\n",
       "      <td>第二轮中日韩北极事务高级别对话联合声明\\r\\n二〇一七年六月八日于东京\\r\\n北极正在经历比...</td>\n",
       "      <td>{\"type\":\"国内新闻\",\"site\":\"环球\",\"commentNum\":\"0\",\"j...</td>\n",
       "      <td>第二轮中日韩北极事务高级别对话联合声明</td>\n",
       "      <td>http://china.huanqiu.com/hot/2017-06/10840932....</td>\n",
       "      <td>0</td>\n",
       "    </tr>\n",
       "    <tr>\n",
       "      <th>8055</th>\n",
       "      <td>81562</td>\n",
       "      <td></td>\n",
       "      <td>郑州日报第01版</td>\n",
       "      <td>本报讯（记者 聂春洁）记者昨日从铁路部门获悉，备受关注的西成高铁（西安至成都）将在今年9月3...</td>\n",
       "      <td>{\"type\":\"封面\",\"site\":\"郑州日报\",\"commentNum\":\"0\",\"j...</td>\n",
       "      <td>西成高铁9月底开通 郑州成都5小时可达</td>\n",
       "      <td>http://zzrb.zynews.cn/html/2017-06/20/content_...</td>\n",
       "      <td>0</td>\n",
       "    </tr>\n",
       "    <tr>\n",
       "      <th>9115</th>\n",
       "      <td>80502</td>\n",
       "      <td>贺超</td>\n",
       "      <td>中国新闻网</td>\n",
       "      <td>中新网6月14日电 据国家统计局网站消息，统计局今日发布数据显示，总体上，5月份国民经济...</td>\n",
       "      <td>{\"type\":\"财经\",\"site\":\"环球\",\"commentNum\":\"0\",\"joi...</td>\n",
       "      <td>5月中国经济运行稳中向好 房地产开发投资增速放缓</td>\n",
       "      <td>http://finance.huanqiu.com/chanjing/2017-06/10...</td>\n",
       "      <td>0</td>\n",
       "    </tr>\n",
       "    <tr>\n",
       "      <th>9863</th>\n",
       "      <td>79754</td>\n",
       "      <td>周扬</td>\n",
       "      <td>环球时报</td>\n",
       "      <td>资料图\\r\\n　　【环球网军事6月12日报道 环球时报驻美国特约记者 范开庆 环球时报记者 ...</td>\n",
       "      <td>{\"type\":\"军事\",\"site\":\"环球\",\"commentNum\":\"8\",\"joi...</td>\n",
       "      <td>三名美国士兵阿富汗离奇遇害 袭击者是阿军士兵</td>\n",
       "      <td>http://mil.huanqiu.com/world/2017-06/10821286....</td>\n",
       "      <td>0</td>\n",
       "    </tr>\n",
       "    <tr>\n",
       "      <th>9943</th>\n",
       "      <td>79674</td>\n",
       "      <td>李文瑶</td>\n",
       "      <td>环球网</td>\n",
       "      <td>【环球科技报道 记者 李文瑶】6月13日消息晚间，神州专车方面透露今日获得由上海交通管理...</td>\n",
       "      <td>{\"type\":\"科技\",\"site\":\"环球\",\"commentNum\":\"0\",\"joi...</td>\n",
       "      <td>第24城获批 神州专车取得上海首张网约车牌照</td>\n",
       "      <td>http://tech.huanqiu.com/original/2017-06/10833...</td>\n",
       "      <td>0</td>\n",
       "    </tr>\n",
       "    <tr>\n",
       "      <th>9974</th>\n",
       "      <td>79643</td>\n",
       "      <td>陈晨1</td>\n",
       "      <td>环球网</td>\n",
       "      <td>【环球网综合报道】你听说过儿童香水吗？也许你会认为儿童香水并不安全，或是只有女孩子才会使...</td>\n",
       "      <td>{\"type\":\"时尚\",\"site\":\"环球\",\"commentNum\":\"0\",\"joi...</td>\n",
       "      <td>童香正流行!关于儿童香水必须了解的那些事</td>\n",
       "      <td>http://fashion.huanqiu.com/news/2017-06/108336...</td>\n",
       "      <td>0</td>\n",
       "    </tr>\n",
       "    <tr>\n",
       "      <th>10576</th>\n",
       "      <td>79037</td>\n",
       "      <td></td>\n",
       "      <td>郑州日报第04版</td>\n",
       "      <td>当地时间12日，巴拿马首都巴拿马城新唐人区的一家酒楼，数百名华侨华人、驻巴中资公司代表与巴拿...</td>\n",
       "      <td>{\"type\":\"要闻国际\",\"site\":\"郑州日报\",\"commentNum\":\"0\",...</td>\n",
       "      <td>“我们多年的心愿终于达成”</td>\n",
       "      <td>http://zzrb.zynews.cn/html/2017-06/14/content_...</td>\n",
       "      <td>0</td>\n",
       "    </tr>\n",
       "    <tr>\n",
       "      <th>10632</th>\n",
       "      <td>78981</td>\n",
       "      <td></td>\n",
       "      <td>央视网</td>\n",
       "      <td>央视网消息：据中纪委网站消息，市十一次党代会以来，在中央和市委的领导下，北京市各级纪检监察机...</td>\n",
       "      <td>{\"type\":\"时事要闻\",\"site\":\"参考消息\",\"commentNum\":\"0\",...</td>\n",
       "      <td>北京:纪检监察体制改革助力正风反腐</td>\n",
       "      <td>http://www.cankaoxiaoxi.com/china/20170614/211...</td>\n",
       "      <td>0</td>\n",
       "    </tr>\n",
       "    <tr>\n",
       "      <th>10688</th>\n",
       "      <td>78925</td>\n",
       "      <td>李天奕_NN7528</td>\n",
       "      <td>央视</td>\n",
       "      <td>（原标题：喜讯！C919再获30架订单 订单总数达600架）\\r\\n今天，中国商用飞机有限责...</td>\n",
       "      <td>{\"type\":\"国内\",\"site\":\"网易\",\"commentNum\":\"1891\",\"...</td>\n",
       "      <td>C919大型客机再获30架订单 订单总数达600架</td>\n",
       "      <td>http://news.163.com/17/0613/12/CMQE95BC0001875...</td>\n",
       "      <td>0</td>\n",
       "    </tr>\n",
       "    <tr>\n",
       "      <th>10775</th>\n",
       "      <td>78838</td>\n",
       "      <td></td>\n",
       "      <td>郑州日报第01版</td>\n",
       "      <td>本报讯（记者 裴其娟）好人凝聚中国力量，好人引领道德风尚。昨日上午，郑州好人馆在郑州市图书馆...</td>\n",
       "      <td>{\"type\":\"封面\",\"site\":\"郑州日报\",\"commentNum\":\"0\",\"j...</td>\n",
       "      <td>郑州好人馆昨开馆 快来感受榜样力量</td>\n",
       "      <td>http://zzrb.zynews.cn/html/2017-06/14/content_...</td>\n",
       "      <td>0</td>\n",
       "    </tr>\n",
       "    <tr>\n",
       "      <th>10790</th>\n",
       "      <td>78823</td>\n",
       "      <td></td>\n",
       "      <td>南方日报第01版</td>\n",
       "      <td>南方日报评论员\\r\\n南方时论\\r\\n中央宣传部、中央文明办日前印发《关于开展倡导绿色生活反...</td>\n",
       "      <td>{\"type\":\"封面\",\"site\":\"南方日报\",\"commentNum\":\"0\",\"j...</td>\n",
       "      <td>培育崇尚自然简约的生活方式</td>\n",
       "      <td>http://epaper.southcn.com/nfdaily/html/2017-06...</td>\n",
       "      <td>0</td>\n",
       "    </tr>\n",
       "    <tr>\n",
       "      <th>10843</th>\n",
       "      <td>78769</td>\n",
       "      <td></td>\n",
       "      <td>外交部网站</td>\n",
       "      <td>原标题：2017年6月12日外交部发言人陆慷主持例行记者会\\r\\n　　问：第一，关于两名...</td>\n",
       "      <td>{\"type\":\"新闻\",\"site\":\"新浪热门\",\"commentNum\":\" 111\"...</td>\n",
       "      <td>中方回应“对两名中国公民可能在巴遇害不满”</td>\n",
       "      <td>http://news.sina.com.cn/c/nd/2017-06-12/doc-if...</td>\n",
       "      <td>0</td>\n",
       "    </tr>\n",
       "  </tbody>\n",
       "</table>\n",
       "<p>225 rows × 8 columns</p>\n",
       "</div>"
      ],
      "text/plain": [
       "          id      author       source  \\\n",
       "31     89586                      央广网   \n",
       "55     89562                      央广网   \n",
       "63     89554                     人民日报   \n",
       "78     89539                      央广网   \n",
       "98     89519                    中国新闻网   \n",
       "115    89502                    中国网财经   \n",
       "124    89493                     凤凰体育   \n",
       "126    89491  荀建国_NN7379     环球时报-环球网   \n",
       "153    89464                   中国经济周刊   \n",
       "164    89453                     凤凰体育   \n",
       "167    89450                    经济参考报   \n",
       "191    89426                   中国新闻网@   \n",
       "296    89321  赵亚萍_NN9005        中国新闻网   \n",
       "409    89208  柳聪_BJS3376         南方日报   \n",
       "525    89092                    狂言之体育   \n",
       "547    89070         刘瑞莹          人民网   \n",
       "582    89035                    中国经济网   \n",
       "592    89025  荀建国_NN7379         半月谈网   \n",
       "609    89008         徐嘉雯   跑否金融 微信公众号   \n",
       "615    89002                    中国新闻网   \n",
       "662    88955          王点     人民网-人民日报   \n",
       "689    88928          王点  人民网-人民日报海外版   \n",
       "721    88896          李芳          中新网   \n",
       "730    88887                    中国新闻网   \n",
       "743    88874  柳聪_BJS3376         郑州日报   \n",
       "766    88851         周 琳        中国经济网   \n",
       "780    88837                     证券时报   \n",
       "786    88831                    参考消息网   \n",
       "790    88827                    中国新闻网   \n",
       "823    88794          陈博        中国经济网   \n",
       "...      ...         ...          ...   \n",
       "7288   82329                 南方日报第01版   \n",
       "7334   82283                海南日报第010版   \n",
       "7351   82266                 南方日报第01版   \n",
       "7367   82250                  长江日报第9版   \n",
       "7389   82228                     野马财经   \n",
       "7398   82219                  长江日报第7版   \n",
       "7525   82092                      央广网   \n",
       "7549   82068                  长江日报第2版   \n",
       "7659   81958                  湖北日报第4版   \n",
       "7711   81906                 郑州日报第03版   \n",
       "7732   81885                 河南日报第03版   \n",
       "7740   81877                  湖北日报第2版   \n",
       "7741   81876          周扬          新华网   \n",
       "7746   81871                  湖北日报第2版   \n",
       "7811   81806                  湖北日报第1版   \n",
       "7920   81697                 郑州日报第03版   \n",
       "7944   81673                 南方日报第01版   \n",
       "7967   81650                 郑州日报第02版   \n",
       "8053   81564                    外交部网站   \n",
       "8055   81562                 郑州日报第01版   \n",
       "9115   80502          贺超        中国新闻网   \n",
       "9863   79754          周扬         环球时报   \n",
       "9943   79674         李文瑶          环球网   \n",
       "9974   79643         陈晨1          环球网   \n",
       "10576  79037                 郑州日报第04版   \n",
       "10632  78981                      央视网   \n",
       "10688  78925  李天奕_NN7528           央视   \n",
       "10775  78838                 郑州日报第01版   \n",
       "10790  78823                 南方日报第01版   \n",
       "10843  78769                    外交部网站   \n",
       "\n",
       "                                                 content  \\\n",
       "31     据中国之声《新闻纵横》报道，针对近日日本媒体披露政府或为首相安倍晋三的好友办学“开绿灯”一事...   \n",
       "55     央广网贵阳6月19日消息（记者王珩 贵州台记者熊瑛）贵州省招生考试院消息，贵州省2017年高...   \n",
       "63     2017年上海国际电影电视节，包括6月12日至16日举办的第二十三届上海电视节和6月17日至...   \n",
       "78     央广网合肥6月19日消息（记者王利）6月19日上午6时，由公安部消防局组织的中部地区跨区域地...   \n",
       "98     中新社吉隆坡6月23日电 (赵胜玉 张淼)中国浙江吉利控股集团23日在吉隆坡与马来西亚DRB...   \n",
       "115    中国网财经6月23日讯 今日，中国保监会副主席黄洪在国务院政策例行吹风会上表示，我们国家在上...   \n",
       "124    佩工或离开华夏幸福\\r\\n北京时间6月16日，英国媒体《天空体育》消息称，水晶宫换帅盯上了中...   \n",
       "126    （原标题：伊朗和俄罗斯向卡塔尔提出援助 卡塔尔：暂时还不需要）\\r\\n【环球网综合报道】据俄...   \n",
       "153    　　文章导读： 实名制真能解决无人机“黑飞”问题？实名制后，无人机行业还需要如何规范？国际上...   \n",
       "164    马龙轻松夺冠\\r\\n凤凰体育讯北京时间6月18日，国际乒联日本公开赛男单决赛进行，马龙4-1...   \n",
       "167    　　“由于东航物流本身股本高达41亿，规定的单个员工持股上限1%，实际上金额有4100万之多...   \n",
       "191    同时，京东、美团、万达等作为线上主流支付入口，也有较多客户体验了银联二维码支付。银联钱包作为...   \n",
       "296    （原标题：各地物价水平如何？ 28省份5月份CPI涨幅扩大）\\r\\n中新网北京6月20日电 ...   \n",
       "409    （原标题：8旬中科院院士 要求捐赠遗体）\\r\\n南方日报讯 “没有遗体捐献就没有医学进步，没...   \n",
       "525    平野美宇\\r\\n国际乒联日本公开赛刚刚结束，中国公开赛又要在成都打响，世界排名第七的日本00...   \n",
       "547    　　中国正迎来大众旅游时代。今年初，国家旅游局提出全域旅游发展模式，助推旅游产业迅速发展，撬...   \n",
       "582    地处长三角经济圈与环渤海经济圈结合点，位于鲁南临港产业带、海洋产业联动发展示范基地、东陇海国...   \n",
       "592    （原标题：中小学招生密考暗流涌动：培训机构作掩护，多考奥数）\\r\\n中小学招生季来临，近期多...   \n",
       "609    　　柏文喜：\\r\\n　　亚太商旅联盟副主席;布兰顿文旅高级顾问，众和昆仑(北京)资产管理有限...   \n",
       "615    中新网6月23日电 据人社部网站消息，目前全国跨省异地就医住院医疗费用直接结算联网接入工作顺...   \n",
       "662    　　本报北京4月16日电 (记者潘跃)北京师范大学中国公益研究院等日前在京发布《中国厕所革命...   \n",
       "689    　　为期9天的珠穆朗玛峰北坡“清洁行动”5月6日启动，清洁范围将在北坡大本营海拔5200米至...   \n",
       "721    　　在为民众提供便利的同时，约30余万辆共享单车带来的乱停乱放等问题，也让西安陷入“围城”之...   \n",
       "730    　　中新社香港6月20日电 题：林郑月娥：香港的经济发展与国家命运分不开\\r\\n　　中新社记...   \n",
       "743    （原标题：西成高铁9月底开通 郑州成都5小时可达）\\r\\n本报讯 记者昨日从铁路部门获悉，备...   \n",
       "766    　　沪深交易所日前发布《证券投资基金上市规则（2017年征求意见稿）》（简称“征求意见稿”）...   \n",
       "780    　　基金公司为了成功留住委外资金也是各出奇招，有基金公司在与银行的沟通中开始实行“先续期后支...   \n",
       "786    参考消息网6月11日报道 外媒称，一位白宫官员向美国之音证实，美国总统特朗普、国务卿和国防部...   \n",
       "790    　　原标题：各地物价水平如何？ 28省份5月份CPI涨幅扩大\\r\\n　　中新网北京6月20日...   \n",
       "823    　　中国经济网鲁塞尔6月20日讯（记者陈博） 欧盟28国外长本周一在卢森堡举行了部长级会议，...   \n",
       "...                                                  ...   \n",
       "7288   即将进入7月，对于城市学生而言，美好的暑假又如期而至了，而对于另一群人——留守儿童而言，迎接...   \n",
       "7334   　　东方市纪委近日通报了两起扶贫领域违纪问题典型案例，对弄虚作假、优亲厚友、不正确履职的两名...   \n",
       "7351   夜幕降临，“苏式”建筑风格的中苏友好大厦雄伟的展厅内，一场新车发布会即将开场；沿江路边，位于...   \n",
       "7367   ????21日晚，观察团外籍成员在知音码头观看表演记者刘斌?摄\\r\\n????本报讯（记者王...   \n",
       "7389   北京2017年6月14日电 /美通社/ --6月16日，野马财经将在北京盘古七星酒店举办20...   \n",
       "7398   ????本报讯（记者梅丹?通讯员范信华?王敏）6月14日是全国第十个“信用记录关爱日”，为加...   \n",
       "7525   央广网昆明6月22日消息（记者李健飞）据中国之声《新闻晚高峰》报道，今天下午，云南省举行旅游...   \n",
       "7549   ????本报讯（记者张隽玮?通讯员沈佳）21日省物价局举行全面清理规范涉企收费新闻通气会，宣...   \n",
       "7659   天舟一号进入独立运行阶段 将择机释放立方星 ????湖北日报讯?据新华社电?21日9时47分...   \n",
       "7711   6月21日，贵州省铜仁市松桃苗族自治县的瑜伽爱好者在练习瑜伽。当日是国际瑜伽日，当地瑜伽爱好...   \n",
       "7732   ????6月20日，游客在鹤壁市淇滨区的桑园小镇游览。去年以来，该区依托淇河沿岸传统民居和秀...   \n",
       "7740   轻装上阵，国企改革加速跑 ????湖北日报讯?记者廖志慧通讯员陈颖 　　编者按 ????当前...   \n",
       "7741   　　韩国军方官员13日说，对上周在朝鲜半岛非军事区附近发现的无人机残骸进行分析后发现，无人机...   \n",
       "7746   我省启动新一轮涉企收费清查行动 涉企经营服务性收费将大幅削减 ????湖北日报讯?（记者刘天...   \n",
       "7811   剥离办社会职能，集中资源做强主业―― 轻装上阵，国企改革加速跑 ????湖北日报讯?记者廖志...   \n",
       "7920   新华社北京6月19日电（记者 熊丰）记者从公安部消防局获悉，19日6时，由公安部消防局组织的...   \n",
       "7944   上市公司现金分红是回报投资者的基本方式，是股份公司制度的应有之义，也是股票内在价值的体现。近...   \n",
       "7967   郑报融媒记者 袁 帅 石 闯\\r\\n无线电，来无影去无踪，在很多人看来，既熟悉又神秘。在影视...   \n",
       "8053   第二轮中日韩北极事务高级别对话联合声明\\r\\n二〇一七年六月八日于东京\\r\\n北极正在经历比...   \n",
       "8055   本报讯（记者 聂春洁）记者昨日从铁路部门获悉，备受关注的西成高铁（西安至成都）将在今年9月3...   \n",
       "9115   　　中新网6月14日电 据国家统计局网站消息，统计局今日发布数据显示，总体上，5月份国民经济...   \n",
       "9863   资料图\\r\\n　　【环球网军事6月12日报道 环球时报驻美国特约记者 范开庆 环球时报记者 ...   \n",
       "9943   　　【环球科技报道 记者 李文瑶】6月13日消息晚间，神州专车方面透露今日获得由上海交通管理...   \n",
       "9974   　　【环球网综合报道】你听说过儿童香水吗？也许你会认为儿童香水并不安全，或是只有女孩子才会使...   \n",
       "10576  当地时间12日，巴拿马首都巴拿马城新唐人区的一家酒楼，数百名华侨华人、驻巴中资公司代表与巴拿...   \n",
       "10632  央视网消息：据中纪委网站消息，市十一次党代会以来，在中央和市委的领导下，北京市各级纪检监察机...   \n",
       "10688  （原标题：喜讯！C919再获30架订单 订单总数达600架）\\r\\n今天，中国商用飞机有限责...   \n",
       "10775  本报讯（记者 裴其娟）好人凝聚中国力量，好人引领道德风尚。昨日上午，郑州好人馆在郑州市图书馆...   \n",
       "10790  南方日报评论员\\r\\n南方时论\\r\\n中央宣传部、中央文明办日前印发《关于开展倡导绿色生活反...   \n",
       "10843  　　原标题：2017年6月12日外交部发言人陆慷主持例行记者会\\r\\n　　问：第一，关于两名...   \n",
       "\n",
       "                                                 feature  \\\n",
       "31     {\"type\":\"国际新闻\",\"site\":\"环球\",\"commentNum\":\"0\",\"j...   \n",
       "55     {\"type\":\"国内新闻\",\"site\":\"环球\",\"commentNum\":\"0\",\"j...   \n",
       "63     {\"type\":\"国内新闻\",\"site\":\"环球\",\"commentNum\":\"0\",\"j...   \n",
       "78     {\"type\":\"国内新闻\",\"site\":\"环球\",\"commentNum\":\"0\",\"j...   \n",
       "98     {\"type\":\"国际财经\",\"site\":\"参考消息\",\"commentNum\":\"0\",...   \n",
       "115    {\"type\":\"中国财经\",\"site\":\"参考消息\",\"commentNum\":\"0\",...   \n",
       "124    {\"type\":\"体育\",\"site\":\"凤凰\",\"commentNum\":\"0\",\"joi...   \n",
       "126    {\"type\":\"新闻\",\"site\":\"网易热门\",\"commentNum\":\"1273\"...   \n",
       "153    {\"type\":\"科技\",\"site\":\"新浪\",\"commentNum\":\" 1\",\"jo...   \n",
       "164    {\"type\":\"体育\",\"site\":\"凤凰\",\"commentNum\":\"0\",\"joi...   \n",
       "167    {\"type\":\"公司\",\"site\":\"中证网\",\"commentNum\":\"0\",\"jo...   \n",
       "191    {\"type\":\"科技\",\"site\":\"cnbeta\",\"commentNum\":\"9\",...   \n",
       "296    {\"type\":\"社会\",\"site\":\"网易\",\"commentNum\":\"63\",\"jo...   \n",
       "409    {\"type\":\"社会\",\"site\":\"网易\",\"commentNum\":\"0\",\"joi...   \n",
       "525    {\"type\":\"体育\",\"site\":\"凤凰\",\"commentNum\":\"0\",\"joi...   \n",
       "547    {\"type\":\"旅游\",\"site\":\"环球\",\"commentNum\":\"0\",\"joi...   \n",
       "582    {\"type\":\"时事要闻\",\"site\":\"参考消息\",\"commentNum\":\"0\",...   \n",
       "592    {\"type\":\"社会\",\"site\":\"网易\",\"commentNum\":\"80\",\"jo...   \n",
       "609    {\"type\":\"旅游\",\"site\":\"环球\",\"commentNum\":\"0\",\"joi...   \n",
       "615    {\"type\":\"社会观察\",\"site\":\"参考消息\",\"commentNum\":\"0\",...   \n",
       "662    {\"type\":\"旅游\",\"site\":\"环球\",\"commentNum\":\"0\",\"joi...   \n",
       "689    {\"type\":\"旅游\",\"site\":\"环球\",\"commentNum\":\"0\",\"joi...   \n",
       "721    {\"type\":\"汽车\",\"site\":\"环球\",\"commentNum\":\"0\",\"joi...   \n",
       "730    {\"type\":\"新闻\",\"site\":\"新浪热门\",\"commentNum\":\" 6\",\"...   \n",
       "743    {\"type\":\"社会\",\"site\":\"网易\",\"commentNum\":\"21\",\"jo...   \n",
       "766    {\"type\":\"基金\",\"site\":\"中证网\",\"commentNum\":\"0\",\"jo...   \n",
       "780    {\"type\":\"基金\",\"site\":\"中证网\",\"commentNum\":\"0\",\"jo...   \n",
       "786    {\"type\":\"亚太新闻\",\"site\":\"参考消息\",\"commentNum\":\"0\",...   \n",
       "790    {\"type\":\"新闻\",\"site\":\"新浪热门\",\"commentNum\":\" 9\",\"...   \n",
       "823    {\"type\":\"海外\",\"site\":\"中证网\",\"commentNum\":\"0\",\"jo...   \n",
       "...                                                  ...   \n",
       "7288   {\"type\":\"封面\",\"site\":\"南方日报\",\"commentNum\":\"0\",\"j...   \n",
       "7334   {\"type\":\"海南新闻综合\",\"site\":\"海南日报\",\"commentNum\":\"0...   \n",
       "7351   {\"type\":\"封面\",\"site\":\"南方日报\",\"commentNum\":\"0\",\"j...   \n",
       "7367   {\"type\":\"民生新闻\",\"site\":\"长江日报\",\"commentNum\":\"0\",...   \n",
       "7389   {\"type\":\"科技\",\"site\":\"环球\",\"commentNum\":\"0\",\"joi...   \n",
       "7398   {\"type\":\"民有所呼 我有所应\",\"site\":\"长江日报\",\"commentNum\"...   \n",
       "7525   {\"type\":\"时事要闻\",\"site\":\"参考消息\",\"commentNum\":\"0\",...   \n",
       "7549   {\"type\":\"要闻\",\"site\":\"长江日报\",\"commentNum\":\"0\",\"j...   \n",
       "7659   {\"type\":\"时事\",\"site\":\"湖北日报\",\"commentNum\":\"0\",\"j...   \n",
       "7711   {\"type\":\"要闻国内\",\"site\":\"郑州日报\",\"commentNum\":\"0\",...   \n",
       "7732   {\"type\":\"要闻\",\"site\":\"河南日报\",\"commentNum\":\"0\",\"j...   \n",
       "7740   {\"type\":\"要闻\",\"site\":\"湖北日报\",\"commentNum\":\"0\",\"j...   \n",
       "7741   {\"type\":\"军事\",\"site\":\"环球\",\"commentNum\":\"2\",\"joi...   \n",
       "7746   {\"type\":\"要闻\",\"site\":\"湖北日报\",\"commentNum\":\"0\",\"j...   \n",
       "7811   {\"type\":\"要闻\",\"site\":\"湖北日报\",\"commentNum\":\"0\",\"j...   \n",
       "7920   {\"type\":\"要闻国内\",\"site\":\"郑州日报\",\"commentNum\":\"0\",...   \n",
       "7944   {\"type\":\"封面\",\"site\":\"南方日报\",\"commentNum\":\"0\",\"j...   \n",
       "7967   {\"type\":\"要闻综合\",\"site\":\"郑州日报\",\"commentNum\":\"0\",...   \n",
       "8053   {\"type\":\"国内新闻\",\"site\":\"环球\",\"commentNum\":\"0\",\"j...   \n",
       "8055   {\"type\":\"封面\",\"site\":\"郑州日报\",\"commentNum\":\"0\",\"j...   \n",
       "9115   {\"type\":\"财经\",\"site\":\"环球\",\"commentNum\":\"0\",\"joi...   \n",
       "9863   {\"type\":\"军事\",\"site\":\"环球\",\"commentNum\":\"8\",\"joi...   \n",
       "9943   {\"type\":\"科技\",\"site\":\"环球\",\"commentNum\":\"0\",\"joi...   \n",
       "9974   {\"type\":\"时尚\",\"site\":\"环球\",\"commentNum\":\"0\",\"joi...   \n",
       "10576  {\"type\":\"要闻国际\",\"site\":\"郑州日报\",\"commentNum\":\"0\",...   \n",
       "10632  {\"type\":\"时事要闻\",\"site\":\"参考消息\",\"commentNum\":\"0\",...   \n",
       "10688  {\"type\":\"国内\",\"site\":\"网易\",\"commentNum\":\"1891\",\"...   \n",
       "10775  {\"type\":\"封面\",\"site\":\"郑州日报\",\"commentNum\":\"0\",\"j...   \n",
       "10790  {\"type\":\"封面\",\"site\":\"南方日报\",\"commentNum\":\"0\",\"j...   \n",
       "10843  {\"type\":\"新闻\",\"site\":\"新浪热门\",\"commentNum\":\" 111\"...   \n",
       "\n",
       "                                 title  \\\n",
       "31             安倍再陷办学丑闻 日内阁府与文科省调查大相径庭   \n",
       "55                   贵州省今年高考计划招生36.3万人   \n",
       "63             聚焦上海国际电影节：“一带一路”，照耀光影世界   \n",
       "78               中部地区跨区域地震救援实战拉动演练全面启动   \n",
       "98        吉利控股集团与马来西亚DRB-HICOM集团签署最终协议   \n",
       "115       黄洪:我国养老保障体系距离\"多层次、可持续\"还有一定差距   \n",
       "124           权威媒体曝英超球会洽谈佩工 智利工程师或离开华夏   \n",
       "126            伊朗俄罗斯向卡塔尔提出援助 卡塔尔:暂时不需要   \n",
       "153             无人机“黑飞”频发：实名制后如何破解监管难？   \n",
       "164              马龙4比1击败樊振东 生涯首次获日乒赛冠军   \n",
       "167    125名员工持股出资总金额近4亿 东航试水混改员工持股改革落地   \n",
       "191                 银联二维码入局 支付市场能否三分天下   \n",
       "296           各地物价水平如何？ 28省份5月份CPI涨幅扩大   \n",
       "409             8旬院士要求捐赠遗体:没有捐献就没有医学进步   \n",
       "525           平野豪言要在中国击败丁宁 接连被虐仍称东京必夺冠   \n",
       "547              全域旅游撬动经济转型升级 领跑中国宏观经济   \n",
       "582            临沂经济开发区：品牌建设成为经济社会发展新动能   \n",
       "592            中小学招生密考暗流涌动：培训机构掩护 多考奥数   \n",
       "609              全域旅游PPP项目全生命周期投融资解析分享   \n",
       "615         人社部：1870家医疗机构可跨省异地就医住院直接结算   \n",
       "662                    全国新建和改扩建旅游厕所5万座   \n",
       "689                       珠峰北坡启动“清洁行动”   \n",
       "721               西安遭共享单车围城：专家称应多方协同治理   \n",
       "730               林郑月娥：香港的经济发展与国家命运分不开   \n",
       "743                西成高铁9月底开通 郑州成都5小时可达   \n",
       "766                      迷你分级基金加速“去库存”   \n",
       "780             基金公司挽留委外资金出新招：先续期后支付收益   \n",
       "786           特朗普紧盯“萨德”部署问题 韩媒称白宫正对韩施压   \n",
       "790           各地物价水平如何？ 28省份5月份CPI涨幅扩大   \n",
       "823                       欧盟拒绝与美重启气变谈判   \n",
       "...                                ...   \n",
       "7288              暑假来临，如何为留守儿童拉起“安全网”？   \n",
       "7334                     构建多重体系筑牢扶贫防腐墙   \n",
       "7351                   穿越风云一甲子 见证激荡六十年   \n",
       "7367                       望把武汉故事 带向全国   \n",
       "7389        寻找金融新势能 -- 野马财经将举办2017夏季峰会   \n",
       "7398         农行湖北分行营业部 开展“信用记录关爱日”宣传活动   \n",
       "7525      云南举行旅游市场秩序整治工作新闻发布会 通报公众关注热点   \n",
       "7549          我省集中清理涉企收费 企业可拒缴收费清单之外项目   \n",
       "7659                      天舟一号进入独立运行阶段   \n",
       "7711                   健身迎接瑜伽日 青山绿水身姿美   \n",
       "7732                        乡村旅游助推精准脱贫   \n",
       "7740                      轻装上阵，国企改革加速跑   \n",
       "7741             韩军方：神秘无人机拍摄韩国萨德部署地后坠毁   \n",
       "7746                    涉企经营服务性收费将大幅削减   \n",
       "7811                      轻装上阵，国企改革加速跑   \n",
       "7920             9省市联动开展跨区域 地震救援实战拉动演练   \n",
       "7944                  14.83亿元！ 上市莞企分红啦   \n",
       "7967                       “电波卫士”的奉献之歌   \n",
       "8053               第二轮中日韩北极事务高级别对话联合声明   \n",
       "8055               西成高铁9月底开通 郑州成都5小时可达   \n",
       "9115          5月中国经济运行稳中向好 房地产开发投资增速放缓   \n",
       "9863            三名美国士兵阿富汗离奇遇害 袭击者是阿军士兵   \n",
       "9943           第24城获批 神州专车取得上海首张网约车牌照    \n",
       "9974              童香正流行!关于儿童香水必须了解的那些事   \n",
       "10576                    “我们多年的心愿终于达成”   \n",
       "10632                北京:纪检监察体制改革助力正风反腐   \n",
       "10688        C919大型客机再获30架订单 订单总数达600架   \n",
       "10775                郑州好人馆昨开馆 快来感受榜样力量   \n",
       "10790                    培育崇尚自然简约的生活方式   \n",
       "10843            中方回应“对两名中国公民可能在巴遇害不满”   \n",
       "\n",
       "                                                     url  y  \n",
       "31     http://world.huanqiu.com/hot/2017-06/10866219....  0  \n",
       "55     http://china.huanqiu.com/hot/2017-06/10866408....  0  \n",
       "63     http://china.huanqiu.com/hot/2017-06/10866419....  0  \n",
       "78     http://china.huanqiu.com/hot/2017-06/10866429....  0  \n",
       "98     http://www.cankaoxiaoxi.com/finance/20170623/2...  0  \n",
       "115    http://www.cankaoxiaoxi.com/finance/20170623/2...  0  \n",
       "124    http://sports.ifeng.com/a/20170616/51262773_0....  0  \n",
       "126    http://news.163.com/17/0612/09/CMNKKI87000187V...  0  \n",
       "153    http://tech.sina.com.cn/it/2017-06-20/doc-ifyh...  0  \n",
       "164    http://sports.ifeng.com/a/20170618/51272858_0....  0  \n",
       "167    http://www.cs.com.cn/ssgs/gsxw/201706/t2017062...  0  \n",
       "191       http://www.cnbeta.com/articles/tech/623693.htm  0  \n",
       "296    http://news.163.com/17/0620/00/CNB70S1600018AO...  0  \n",
       "409    http://news.163.com/17/0620/06/CNBTA3ON00018AO...  0  \n",
       "525    http://sports.ifeng.com/a/20170620/51281761_0....  0  \n",
       "547      http://go.huanqiu.com/news/2016-10/9544851.html  0  \n",
       "582    http://www.cankaoxiaoxi.com/china/20170623/214...  0  \n",
       "592    http://news.163.com/17/0620/10/CNC8B4IN000187V...  0  \n",
       "609      http://go.huanqiu.com/news/2016-11/9685269.html  0  \n",
       "615    http://www.cankaoxiaoxi.com/china/20170623/214...  0  \n",
       "662     http://go.huanqiu.com/news/2017-04/10493750.html  0  \n",
       "689     http://go.huanqiu.com/news/2017-05/10644578.html  0  \n",
       "721    http://auto.huanqiu.com/news/2017-06/10865495....  0  \n",
       "730    http://news.sina.com.cn/o/2017-06-20/doc-ifyhf...  0  \n",
       "743    http://news.163.com/17/0620/13/CNCISG0E00018AO...  0  \n",
       "766    http://www.cs.com.cn/tzjj/201706/t20170622_533...  0  \n",
       "780    http://www.cs.com.cn/tzjj/201706/t20170622_533...  0  \n",
       "786    http://www.cankaoxiaoxi.com/world/20170611/210...  0  \n",
       "790    http://news.sina.com.cn/o/2017-06-20/doc-ifyhf...  0  \n",
       "823    http://www.cs.com.cn/xwzx/hwxx/201706/t2017062...  0  \n",
       "...                                                  ... ..  \n",
       "7288   http://epaper.southcn.com/nfdaily/html/2017-06...  0  \n",
       "7334   http://hnrb.hinews.cn/html/2017-06/22/content_...  0  \n",
       "7351   http://epaper.southcn.com/nfdaily/html/2017-06...  0  \n",
       "7367   http://cjrb.cjn.cn/html/2017-06/22/content_562...  0  \n",
       "7389   http://tech.huanqiu.com/news/2017-06/10840290....  0  \n",
       "7398   http://cjrb.cjn.cn/html/2017-06/22/content_562...  0  \n",
       "7525   http://www.cankaoxiaoxi.com/china/20170622/214...  0  \n",
       "7549   http://cjrb.cjn.cn/html/2017-06/22/content_562...  0  \n",
       "7659   http://hbrb.cnhubei.com/html/hbrb/20170622/hbr...  0  \n",
       "7711   http://zzrb.zynews.cn/html/2017-06/22/content_...  0  \n",
       "7732   http://newpaper.dahe.cn/hnrb/html/2017-06/22/c...  0  \n",
       "7740   http://hbrb.cnhubei.com/html/hbrb/20170622/hbr...  0  \n",
       "7741   http://mil.huanqiu.com/world/2017-06/10837248....  0  \n",
       "7746   http://hbrb.cnhubei.com/html/hbrb/20170622/hbr...  0  \n",
       "7811   http://hbrb.cnhubei.com/html/hbrb/20170622/hbr...  0  \n",
       "7920   http://zzrb.zynews.cn/html/2017-06/20/content_...  0  \n",
       "7944   http://epaper.southcn.com/nfdaily/html/2017-06...  0  \n",
       "7967   http://zzrb.zynews.cn/html/2017-06/20/content_...  0  \n",
       "8053   http://china.huanqiu.com/hot/2017-06/10840932....  0  \n",
       "8055   http://zzrb.zynews.cn/html/2017-06/20/content_...  0  \n",
       "9115   http://finance.huanqiu.com/chanjing/2017-06/10...  0  \n",
       "9863   http://mil.huanqiu.com/world/2017-06/10821286....  0  \n",
       "9943   http://tech.huanqiu.com/original/2017-06/10833...  0  \n",
       "9974   http://fashion.huanqiu.com/news/2017-06/108336...  0  \n",
       "10576  http://zzrb.zynews.cn/html/2017-06/14/content_...  0  \n",
       "10632  http://www.cankaoxiaoxi.com/china/20170614/211...  0  \n",
       "10688  http://news.163.com/17/0613/12/CMQE95BC0001875...  0  \n",
       "10775  http://zzrb.zynews.cn/html/2017-06/14/content_...  0  \n",
       "10790  http://epaper.southcn.com/nfdaily/html/2017-06...  0  \n",
       "10843  http://news.sina.com.cn/c/nd/2017-06-12/doc-if...  0  \n",
       "\n",
       "[225 rows x 8 columns]"
      ]
     },
     "execution_count": 198,
     "metadata": {},
     "output_type": "execute_result"
    }
   ],
   "source": [
    "content.iloc[indices, :]"
   ]
  },
  {
   "cell_type": "markdown",
   "metadata": {},
   "source": [
    "### Step10： 总结该过程，什么是数据思维？什么是机器学习思维？"
   ]
  },
  {
   "cell_type": "code",
   "execution_count": null,
   "metadata": {},
   "outputs": [],
   "source": [
    "数据思维是以数据为出发点，研究数据分布规律，人工确定模型参数，获得输出结果。机器学习思维是以模型为出发点，将数据与结果作为输入，输出模型参数"
   ]
  },
  {
   "cell_type": "markdown",
   "metadata": {},
   "source": [
    "### (Optional)使用第4课讲解的 edit distance，在涉嫌抄袭的文章中，找到其重复的文字与被修改过的文字。 "
   ]
  },
  {
   "cell_type": "markdown",
   "metadata": {},
   "source": [
    "### Step11: 利用第8课讲述的新模型，进行操作，感受其中不同的参数、模型对性能的影响。"
   ]
  },
  {
   "cell_type": "code",
   "execution_count": 164,
   "metadata": {},
   "outputs": [],
   "source": [
    "# svm\n",
    "from sklearn.svm import SVC"
   ]
  },
  {
   "cell_type": "code",
   "execution_count": 199,
   "metadata": {},
   "outputs": [
    {
     "data": {
      "text/plain": [
       "SVC(C=1.0, cache_size=200, class_weight=None, coef0=0.0,\n",
       "  decision_function_shape='ovr', degree=3, gamma='auto', kernel='rbf',\n",
       "  max_iter=-1, probability=False, random_state=None, shrinking=True,\n",
       "  tol=0.001, verbose=False)"
      ]
     },
     "execution_count": 199,
     "metadata": {},
     "output_type": "execute_result"
    }
   ],
   "source": [
    "svm_rbf = SVC(gamma='auto')\n",
    "svm_rbf.fit(X_train, y_train)"
   ]
  },
  {
   "cell_type": "code",
   "execution_count": 200,
   "metadata": {},
   "outputs": [],
   "source": [
    "svm_rbf_pred = svm_rbf.predict(X_test).tolist()"
   ]
  },
  {
   "cell_type": "code",
   "execution_count": 202,
   "metadata": {},
   "outputs": [
    {
     "data": {
      "text/plain": [
       "0.8778297374853863"
      ]
     },
     "execution_count": 202,
     "metadata": {},
     "output_type": "execute_result"
    }
   ],
   "source": [
    "accuracy_score(y_test, svm_rbf_pred)"
   ]
  },
  {
   "cell_type": "code",
   "execution_count": 203,
   "metadata": {},
   "outputs": [
    {
     "data": {
      "text/plain": [
       "SVC(C=1.0, cache_size=200, class_weight=None, coef0=0.0,\n",
       "  decision_function_shape='ovr', degree=3, gamma='auto', kernel='linear',\n",
       "  max_iter=-1, probability=False, random_state=None, shrinking=True,\n",
       "  tol=0.001, verbose=False)"
      ]
     },
     "execution_count": 203,
     "metadata": {},
     "output_type": "execute_result"
    }
   ],
   "source": [
    "svm_linear = SVC(gamma='auto', kernel='linear')\n",
    "svm_linear.fit(X_train, y_train)"
   ]
  },
  {
   "cell_type": "code",
   "execution_count": 204,
   "metadata": {},
   "outputs": [],
   "source": [
    "svm_linear_pred = svm_linear.predict(X_test).tolist()"
   ]
  },
  {
   "cell_type": "code",
   "execution_count": 205,
   "metadata": {},
   "outputs": [
    {
     "data": {
      "text/plain": [
       "0.9977680943777234"
      ]
     },
     "execution_count": 205,
     "metadata": {},
     "output_type": "execute_result"
    }
   ],
   "source": [
    "accuracy_score(y_test, svm_linear_pred)"
   ]
  },
  {
   "cell_type": "code",
   "execution_count": 206,
   "metadata": {},
   "outputs": [
    {
     "data": {
      "text/plain": [
       "SVC(C=1.0, cache_size=200, class_weight=None, coef0=0.0,\n",
       "  decision_function_shape='ovr', degree=3, gamma='auto', kernel='poly',\n",
       "  max_iter=-1, probability=False, random_state=None, shrinking=True,\n",
       "  tol=0.001, verbose=False)"
      ]
     },
     "execution_count": 206,
     "metadata": {},
     "output_type": "execute_result"
    }
   ],
   "source": [
    "svm_poly = SVC(gamma='auto', kernel='poly')\n",
    "svm_poly.fit(X_train, y_train)"
   ]
  },
  {
   "cell_type": "code",
   "execution_count": 207,
   "metadata": {},
   "outputs": [],
   "source": [
    "svm_poly_pred = svm_poly.predict(X_test).tolist()"
   ]
  },
  {
   "cell_type": "code",
   "execution_count": 208,
   "metadata": {},
   "outputs": [
    {
     "data": {
      "text/plain": [
       "0.8778297374853863"
      ]
     },
     "execution_count": 208,
     "metadata": {},
     "output_type": "execute_result"
    }
   ],
   "source": [
    "accuracy_score(y_test, svm_poly_pred)"
   ]
  },
  {
   "cell_type": "code",
   "execution_count": 209,
   "metadata": {},
   "outputs": [
    {
     "data": {
      "text/plain": [
       "SVC(C=1.0, cache_size=200, class_weight=None, coef0=0.0,\n",
       "  decision_function_shape='ovr', degree=3, gamma='auto', kernel='sigmoid',\n",
       "  max_iter=-1, probability=False, random_state=None, shrinking=True,\n",
       "  tol=0.001, verbose=False)"
      ]
     },
     "execution_count": 209,
     "metadata": {},
     "output_type": "execute_result"
    }
   ],
   "source": [
    "svm_sigmoid = SVC(gamma='auto', kernel='sigmoid')\n",
    "svm_sigmoid.fit(X_train, y_train)"
   ]
  },
  {
   "cell_type": "code",
   "execution_count": 210,
   "metadata": {},
   "outputs": [],
   "source": [
    "svm_sigmoid_pred = svm_sigmoid.predict(X_test).tolist()"
   ]
  },
  {
   "cell_type": "code",
   "execution_count": 211,
   "metadata": {},
   "outputs": [
    {
     "data": {
      "text/plain": [
       "0.8778297374853863"
      ]
     },
     "execution_count": 211,
     "metadata": {},
     "output_type": "execute_result"
    }
   ],
   "source": [
    "accuracy_score(y_test, svm_sigmoid_pred)"
   ]
  },
  {
   "cell_type": "code",
   "execution_count": 217,
   "metadata": {},
   "outputs": [],
   "source": [
    "# 逻辑回归\n",
    "from sklearn.linear_model import LogisticRegression"
   ]
  },
  {
   "cell_type": "code",
   "execution_count": 218,
   "metadata": {},
   "outputs": [
    {
     "data": {
      "text/plain": [
       "LogisticRegression(C=1.0, class_weight=None, dual=False, fit_intercept=True,\n",
       "          intercept_scaling=1, max_iter=100, multi_class='multinomial',\n",
       "          n_jobs=None, penalty='l2', random_state=0, solver='lbfgs',\n",
       "          tol=0.0001, verbose=0, warm_start=False)"
      ]
     },
     "execution_count": 218,
     "metadata": {},
     "output_type": "execute_result"
    }
   ],
   "source": [
    "lr = LogisticRegression(random_state=0, solver='lbfgs', multi_class='multinomial')\n",
    "lr.fit(X_train, y_train)"
   ]
  },
  {
   "cell_type": "code",
   "execution_count": 219,
   "metadata": {},
   "outputs": [],
   "source": [
    "lr_pred = lr.predict(X_test).tolist()"
   ]
  },
  {
   "cell_type": "code",
   "execution_count": 220,
   "metadata": {},
   "outputs": [
    {
     "data": {
      "text/plain": [
       "0.9970241258369646"
      ]
     },
     "execution_count": 220,
     "metadata": {},
     "output_type": "execute_result"
    }
   ],
   "source": [
    "accuracy_score(y_test, lr_pred)"
   ]
  },
  {
   "cell_type": "code",
   "execution_count": 221,
   "metadata": {},
   "outputs": [],
   "source": [
    "# 朴素贝叶斯分类\n",
    "from sklearn.naive_bayes import GaussianNB"
   ]
  },
  {
   "cell_type": "code",
   "execution_count": null,
   "metadata": {},
   "outputs": [],
   "source": [
    "nb = GaussianNB()\n",
    "nb.fit(X_train.toarray(), y_train)"
   ]
  },
  {
   "cell_type": "code",
   "execution_count": null,
   "metadata": {},
   "outputs": [],
   "source": [
    "nb_pred = nb.predict(X_test).tolist()"
   ]
  },
  {
   "cell_type": "code",
   "execution_count": null,
   "metadata": {},
   "outputs": [],
   "source": [
    "accuracy_score(y_test, nb_pred)"
   ]
  },
  {
   "cell_type": "code",
   "execution_count": null,
   "metadata": {},
   "outputs": [],
   "source": []
  }
 ],
 "metadata": {
  "kernelspec": {
   "display_name": "Python 3",
   "language": "python",
   "name": "python3"
  },
  "language_info": {
   "codemirror_mode": {
    "name": "ipython",
    "version": 3
   },
   "file_extension": ".py",
   "mimetype": "text/x-python",
   "name": "python",
   "nbconvert_exporter": "python",
   "pygments_lexer": "ipython3",
   "version": "3.7.3"
  }
 },
 "nbformat": 4,
 "nbformat_minor": 4
}
